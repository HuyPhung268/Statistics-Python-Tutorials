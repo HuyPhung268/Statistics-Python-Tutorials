{
 "cells": [
  {
   "cell_type": "markdown",
   "metadata": {},
   "source": [
    "# Ước lượng phân vị Harrell-Davis\n",
    "\n",
    "### Bs. Lê Ngọc Khả Nhi\n",
    "\n",
    "\n",
    "## Giới thiệu:\n",
    "\n",
    "Năm 1982, hai nhà thống kê Frank Harrell và C. Davis đã thiết kế một phương pháp phi tham số cho phép ước lượng giá trị của bất cứ phân vị nào trên một tập hợp dữ liệu. \n",
    "\n",
    "Harrell, F.E. & Davis, C.E. (1982) A new distribution-free quantile estimator. Biometrika, 69, 635-640.\n",
    "\n",
    "Do đặc tính phi tham số, phương pháp Harrell-Davis có thể áp dụng một cách phổ quát cho bất cứ dữ liệu nào mà không cần biết về đặc tính phân phối.\n",
    "\n",
    "Trong bài thực hành hôm nay, Nhi sẽ cùng các bạn viết code thủ công để ứng dụng phương pháp Harrel-Davis, mục tiêu sau cùng là tạo ra một kiểm định phi tham số mạnh và linh hoạt hơn rất nhiều so với các công cụ mà ta từng biết như Wilcoxon, MannWhitney U..."
   ]
  },
  {
   "cell_type": "code",
   "execution_count": 1,
   "metadata": {},
   "outputs": [],
   "source": [
    "import numpy as np\n",
    "import pandas as pd\n",
    "from scipy import stats\n",
    "import seaborn as sns\n",
    "import matplotlib.pyplot as plt\n",
    "from patsy import dmatrices"
   ]
  },
  {
   "cell_type": "markdown",
   "metadata": {},
   "source": [
    "# Hàm ước tính phân vị\n",
    "\n",
    "Đầu tiên, Nhi đưa quy trình tính toán phân vị theo Harrell - Davis vào một hàm, dữ liệu đầu vào là numpy array 1D, kết quả xuất ra là 1 dictionary với key = bách phân vị cần ước tính, và value tương ứng là giá trị bách phân vị tính được."
   ]
  },
  {
   "cell_type": "code",
   "execution_count": 3,
   "metadata": {},
   "outputs": [],
   "source": [
    "def hd_est(x, qseq = [0.5]):\n",
    "    '''Hàm ước tính phân vị theo Harrell-Davis\n",
    "    @ Arguments:\n",
    "    x: list, numpy array hoặc pandas series\n",
    "    qseq: list, giá trị nằm trong khoảng 0,1\n",
    "    \n",
    "    @ Output: Dictionary có dạng {'q': Harrell-Davis quantile,}\n",
    "    '''\n",
    "    if isinstance(x, list):\n",
    "        x = np.array(x)\n",
    "    \n",
    "    assert x.ndim == 1, 'Không dùng được cho array có hơn 1 chiều'\n",
    "    assert len(x) >= 3, 'Dữ liệu quá ít, cần ít nhất 3 phần tử'\n",
    "    assert np.abs(np.array(qseq)).max() < 1, 'Bách phân vị phải nằm trong khoảng 0,1'\n",
    "    \n",
    "    x = x[~np.isnan(x)]\n",
    "    xs = np.sort(x, axis=0)\n",
    "    n = len(x)\n",
    "    vec = np.arange(n)\n",
    "    \n",
    "    xq = dict.fromkeys(qseq)\n",
    "    \n",
    "    for q in qseq:\n",
    "        m1 = (n + 1) * q\n",
    "        m2 = (n + 1) * (1 - q)\n",
    "        wx = (stats.beta.cdf(vec/n, m1, m2) -\n",
    "             stats.beta.cdf((vec-1)/n, m1, m2))\n",
    "        \n",
    "        xq[q] = (wx * xs).sum()\n",
    "        \n",
    "    return xq"
   ]
  },
  {
   "cell_type": "code",
   "execution_count": 17,
   "metadata": {},
   "outputs": [
    {
     "ename": "AssertionError",
     "evalue": "Dữ liệu quá ít, cần ít nhất 3 phần tử",
     "output_type": "error",
     "traceback": [
      "\u001b[1;31m---------------------------------------------------------------------------\u001b[0m",
      "\u001b[1;31mAssertionError\u001b[0m                            Traceback (most recent call last)",
      "\u001b[1;32m<ipython-input-17-12a1e82cd72c>\u001b[0m in \u001b[0;36m<module>\u001b[1;34m\u001b[0m\n\u001b[1;32m----> 1\u001b[1;33m \u001b[0mhd_est\u001b[0m\u001b[1;33m(\u001b[0m\u001b[0mx\u001b[0m \u001b[1;33m=\u001b[0m \u001b[1;33m[\u001b[0m\u001b[1;36m1\u001b[0m\u001b[1;33m,\u001b[0m\u001b[1;36m2\u001b[0m\u001b[1;33m,\u001b[0m\u001b[1;33m]\u001b[0m\u001b[1;33m)\u001b[0m\u001b[1;33m\u001b[0m\u001b[1;33m\u001b[0m\u001b[0m\n\u001b[0m",
      "\u001b[1;32m<ipython-input-16-7156a0b4b0ae>\u001b[0m in \u001b[0;36mhd_est\u001b[1;34m(x, qseq)\u001b[0m\n\u001b[0;32m      9\u001b[0m \u001b[1;33m\u001b[0m\u001b[0m\n\u001b[0;32m     10\u001b[0m     \u001b[1;32massert\u001b[0m \u001b[0mx\u001b[0m\u001b[1;33m.\u001b[0m\u001b[0mndim\u001b[0m \u001b[1;33m==\u001b[0m \u001b[1;36m1\u001b[0m\u001b[1;33m,\u001b[0m \u001b[1;34m'Không dùng được cho array có hơn 1 chiều'\u001b[0m\u001b[1;33m\u001b[0m\u001b[1;33m\u001b[0m\u001b[0m\n\u001b[1;32m---> 11\u001b[1;33m     \u001b[1;32massert\u001b[0m \u001b[0mlen\u001b[0m\u001b[1;33m(\u001b[0m\u001b[0mx\u001b[0m\u001b[1;33m)\u001b[0m \u001b[1;33m>\u001b[0m \u001b[1;36m3\u001b[0m\u001b[1;33m,\u001b[0m \u001b[1;34m'Dữ liệu quá ít, cần ít nhất 3 phần tử'\u001b[0m\u001b[1;33m\u001b[0m\u001b[1;33m\u001b[0m\u001b[0m\n\u001b[0m\u001b[0;32m     12\u001b[0m     \u001b[1;32massert\u001b[0m \u001b[0mnp\u001b[0m\u001b[1;33m.\u001b[0m\u001b[0mabs\u001b[0m\u001b[1;33m(\u001b[0m\u001b[0mnp\u001b[0m\u001b[1;33m.\u001b[0m\u001b[0marray\u001b[0m\u001b[1;33m(\u001b[0m\u001b[0mqseq\u001b[0m\u001b[1;33m)\u001b[0m\u001b[1;33m)\u001b[0m\u001b[1;33m.\u001b[0m\u001b[0mmax\u001b[0m\u001b[1;33m(\u001b[0m\u001b[1;33m)\u001b[0m \u001b[1;33m<\u001b[0m \u001b[1;36m1\u001b[0m\u001b[1;33m,\u001b[0m \u001b[1;34m'Bách phân vị phải nằm trong khoảng 0,1'\u001b[0m\u001b[1;33m\u001b[0m\u001b[1;33m\u001b[0m\u001b[0m\n\u001b[0;32m     13\u001b[0m \u001b[1;33m\u001b[0m\u001b[0m\n",
      "\u001b[1;31mAssertionError\u001b[0m: Dữ liệu quá ít, cần ít nhất 3 phần tử"
     ]
    }
   ],
   "source": [
    "hd_est(x = [1,2,])"
   ]
  },
  {
   "cell_type": "code",
   "execution_count": 20,
   "metadata": {},
   "outputs": [
    {
     "ename": "AssertionError",
     "evalue": "Không dùng được cho array có hơn 1 chiều",
     "output_type": "error",
     "traceback": [
      "\u001b[1;31m---------------------------------------------------------------------------\u001b[0m",
      "\u001b[1;31mAssertionError\u001b[0m                            Traceback (most recent call last)",
      "\u001b[1;32m<ipython-input-20-933b5f37abf9>\u001b[0m in \u001b[0;36m<module>\u001b[1;34m\u001b[0m\n\u001b[1;32m----> 1\u001b[1;33m \u001b[0mhd_est\u001b[0m\u001b[1;33m(\u001b[0m\u001b[0mx\u001b[0m \u001b[1;33m=\u001b[0m \u001b[0mnp\u001b[0m\u001b[1;33m.\u001b[0m\u001b[0marray\u001b[0m\u001b[1;33m(\u001b[0m\u001b[1;33m[\u001b[0m\u001b[1;33m[\u001b[0m\u001b[1;36m1\u001b[0m\u001b[1;33m,\u001b[0m\u001b[1;36m2\u001b[0m\u001b[1;33m,\u001b[0m\u001b[1;36m3\u001b[0m\u001b[1;33m]\u001b[0m\u001b[1;33m,\u001b[0m\u001b[1;33m[\u001b[0m\u001b[1;36m4\u001b[0m\u001b[1;33m,\u001b[0m\u001b[1;36m5\u001b[0m\u001b[1;33m,\u001b[0m\u001b[1;36m6\u001b[0m\u001b[1;33m]\u001b[0m\u001b[1;33m]\u001b[0m\u001b[1;33m)\u001b[0m\u001b[1;33m,\u001b[0m \u001b[1;33m)\u001b[0m\u001b[1;33m\u001b[0m\u001b[1;33m\u001b[0m\u001b[0m\n\u001b[0m",
      "\u001b[1;32m<ipython-input-16-7156a0b4b0ae>\u001b[0m in \u001b[0;36mhd_est\u001b[1;34m(x, qseq)\u001b[0m\n\u001b[0;32m      8\u001b[0m         \u001b[0mx\u001b[0m \u001b[1;33m=\u001b[0m \u001b[0mnp\u001b[0m\u001b[1;33m.\u001b[0m\u001b[0marray\u001b[0m\u001b[1;33m(\u001b[0m\u001b[0mx\u001b[0m\u001b[1;33m)\u001b[0m\u001b[1;33m\u001b[0m\u001b[1;33m\u001b[0m\u001b[0m\n\u001b[0;32m      9\u001b[0m \u001b[1;33m\u001b[0m\u001b[0m\n\u001b[1;32m---> 10\u001b[1;33m     \u001b[1;32massert\u001b[0m \u001b[0mx\u001b[0m\u001b[1;33m.\u001b[0m\u001b[0mndim\u001b[0m \u001b[1;33m==\u001b[0m \u001b[1;36m1\u001b[0m\u001b[1;33m,\u001b[0m \u001b[1;34m'Không dùng được cho array có hơn 1 chiều'\u001b[0m\u001b[1;33m\u001b[0m\u001b[1;33m\u001b[0m\u001b[0m\n\u001b[0m\u001b[0;32m     11\u001b[0m     \u001b[1;32massert\u001b[0m \u001b[0mlen\u001b[0m\u001b[1;33m(\u001b[0m\u001b[0mx\u001b[0m\u001b[1;33m)\u001b[0m \u001b[1;33m>\u001b[0m \u001b[1;36m3\u001b[0m\u001b[1;33m,\u001b[0m \u001b[1;34m'Dữ liệu quá ít, cần ít nhất 3 phần tử'\u001b[0m\u001b[1;33m\u001b[0m\u001b[1;33m\u001b[0m\u001b[0m\n\u001b[0;32m     12\u001b[0m     \u001b[1;32massert\u001b[0m \u001b[0mnp\u001b[0m\u001b[1;33m.\u001b[0m\u001b[0mabs\u001b[0m\u001b[1;33m(\u001b[0m\u001b[0mnp\u001b[0m\u001b[1;33m.\u001b[0m\u001b[0marray\u001b[0m\u001b[1;33m(\u001b[0m\u001b[0mqseq\u001b[0m\u001b[1;33m)\u001b[0m\u001b[1;33m)\u001b[0m\u001b[1;33m.\u001b[0m\u001b[0mmax\u001b[0m\u001b[1;33m(\u001b[0m\u001b[1;33m)\u001b[0m \u001b[1;33m<\u001b[0m \u001b[1;36m1\u001b[0m\u001b[1;33m,\u001b[0m \u001b[1;34m'Bách phân vị phải nằm trong khoảng 0,1'\u001b[0m\u001b[1;33m\u001b[0m\u001b[1;33m\u001b[0m\u001b[0m\n",
      "\u001b[1;31mAssertionError\u001b[0m: Không dùng được cho array có hơn 1 chiều"
     ]
    }
   ],
   "source": [
    "hd_est(x = np.array([[1,2,3],[4,5,6]]) )"
   ]
  },
  {
   "cell_type": "code",
   "execution_count": 23,
   "metadata": {},
   "outputs": [
    {
     "ename": "AssertionError",
     "evalue": "Bách phân vị phải nằm trong khoảng 0,1",
     "output_type": "error",
     "traceback": [
      "\u001b[1;31m---------------------------------------------------------------------------\u001b[0m",
      "\u001b[1;31mAssertionError\u001b[0m                            Traceback (most recent call last)",
      "\u001b[1;32m<ipython-input-23-5aa8ecf5f994>\u001b[0m in \u001b[0;36m<module>\u001b[1;34m\u001b[0m\n\u001b[1;32m----> 1\u001b[1;33m \u001b[0mhd_est\u001b[0m\u001b[1;33m(\u001b[0m\u001b[0mx\u001b[0m \u001b[1;33m=\u001b[0m \u001b[0mnp\u001b[0m\u001b[1;33m.\u001b[0m\u001b[0marray\u001b[0m\u001b[1;33m(\u001b[0m\u001b[1;33m[\u001b[0m\u001b[1;36m1\u001b[0m\u001b[1;33m,\u001b[0m\u001b[1;36m2\u001b[0m\u001b[1;33m,\u001b[0m\u001b[1;36m3\u001b[0m\u001b[1;33m]\u001b[0m\u001b[1;33m)\u001b[0m\u001b[1;33m,\u001b[0m \u001b[0mqseq\u001b[0m \u001b[1;33m=\u001b[0m \u001b[1;33m[\u001b[0m\u001b[1;36m50\u001b[0m\u001b[1;33m]\u001b[0m \u001b[1;33m)\u001b[0m\u001b[1;33m\u001b[0m\u001b[1;33m\u001b[0m\u001b[0m\n\u001b[0m",
      "\u001b[1;32m<ipython-input-22-20aa3845fcce>\u001b[0m in \u001b[0;36mhd_est\u001b[1;34m(x, qseq)\u001b[0m\n\u001b[0;32m     10\u001b[0m     \u001b[1;32massert\u001b[0m \u001b[0mx\u001b[0m\u001b[1;33m.\u001b[0m\u001b[0mndim\u001b[0m \u001b[1;33m==\u001b[0m \u001b[1;36m1\u001b[0m\u001b[1;33m,\u001b[0m \u001b[1;34m'Không dùng được cho array có hơn 1 chiều'\u001b[0m\u001b[1;33m\u001b[0m\u001b[1;33m\u001b[0m\u001b[0m\n\u001b[0;32m     11\u001b[0m     \u001b[1;32massert\u001b[0m \u001b[0mlen\u001b[0m\u001b[1;33m(\u001b[0m\u001b[0mx\u001b[0m\u001b[1;33m)\u001b[0m \u001b[1;33m>=\u001b[0m \u001b[1;36m3\u001b[0m\u001b[1;33m,\u001b[0m \u001b[1;34m'Dữ liệu quá ít, cần ít nhất 3 phần tử'\u001b[0m\u001b[1;33m\u001b[0m\u001b[1;33m\u001b[0m\u001b[0m\n\u001b[1;32m---> 12\u001b[1;33m     \u001b[1;32massert\u001b[0m \u001b[0mnp\u001b[0m\u001b[1;33m.\u001b[0m\u001b[0mabs\u001b[0m\u001b[1;33m(\u001b[0m\u001b[0mnp\u001b[0m\u001b[1;33m.\u001b[0m\u001b[0marray\u001b[0m\u001b[1;33m(\u001b[0m\u001b[0mqseq\u001b[0m\u001b[1;33m)\u001b[0m\u001b[1;33m)\u001b[0m\u001b[1;33m.\u001b[0m\u001b[0mmax\u001b[0m\u001b[1;33m(\u001b[0m\u001b[1;33m)\u001b[0m \u001b[1;33m<\u001b[0m \u001b[1;36m1\u001b[0m\u001b[1;33m,\u001b[0m \u001b[1;34m'Bách phân vị phải nằm trong khoảng 0,1'\u001b[0m\u001b[1;33m\u001b[0m\u001b[1;33m\u001b[0m\u001b[0m\n\u001b[0m\u001b[0;32m     13\u001b[0m \u001b[1;33m\u001b[0m\u001b[0m\n\u001b[0;32m     14\u001b[0m     \u001b[0mx\u001b[0m \u001b[1;33m=\u001b[0m \u001b[0mx\u001b[0m\u001b[1;33m[\u001b[0m\u001b[1;33m~\u001b[0m\u001b[0mnp\u001b[0m\u001b[1;33m.\u001b[0m\u001b[0misnan\u001b[0m\u001b[1;33m(\u001b[0m\u001b[0mx\u001b[0m\u001b[1;33m)\u001b[0m\u001b[1;33m]\u001b[0m\u001b[1;33m\u001b[0m\u001b[1;33m\u001b[0m\u001b[0m\n",
      "\u001b[1;31mAssertionError\u001b[0m: Bách phân vị phải nằm trong khoảng 0,1"
     ]
    }
   ],
   "source": [
    "hd_est(x = np.array([1,2,3]), qseq = [50] )"
   ]
  },
  {
   "cell_type": "markdown",
   "metadata": {},
   "source": [
    "Đầu tiên chúng ta thử ước tính bách phân vị cho một phân bố chuẩn: Theo nguyên tắc, kết quả của hàm hd_est phải tương đương với những hàm quantile khác:"
   ]
  },
  {
   "cell_type": "code",
   "execution_count": 2,
   "metadata": {},
   "outputs": [
    {
     "data": {
      "text/plain": [
       "<matplotlib.axes._subplots.AxesSubplot at 0x2a2b40b0988>"
      ]
     },
     "execution_count": 2,
     "metadata": {},
     "output_type": "execute_result"
    },
    {
     "data": {
      "image/png": "[encoded data removed]",
      "text/plain": [
       "<Figure size 432x288 with 1 Axes>"
      ]
     },
     "metadata": {
      "needs_background": "light"
     },
     "output_type": "display_data"
    }
   ],
   "source": [
    "np.random.seed(123)\n",
    "\n",
    "x1 = np.random.normal(size=300)\n",
    "\n",
    "sns.kdeplot(x1, shade = True, color ='red')"
   ]
  },
  {
   "cell_type": "code",
   "execution_count": 4,
   "metadata": {},
   "outputs": [
    {
     "data": {
      "text/plain": [
       "array([-1.60834951, -1.32674689, -0.73315073, -0.01822824,  0.6663193 ,\n",
       "        1.27829453,  1.65191233])"
      ]
     },
     "execution_count": 4,
     "metadata": {},
     "output_type": "execute_result"
    }
   ],
   "source": [
    "np.quantile(x1, [0.05, 0.1, 0.25, 0.5, 0.75, 0.9, 0.95], axis = 0)"
   ]
  },
  {
   "cell_type": "code",
   "execution_count": 5,
   "metadata": {},
   "outputs": [
    {
     "data": {
      "text/plain": [
       "0.05   -1.608350\n",
       "0.10   -1.326747\n",
       "0.25   -0.733151\n",
       "0.50   -0.018228\n",
       "0.75    0.666319\n",
       "0.90    1.278295\n",
       "0.95    1.651912\n",
       "dtype: float64"
      ]
     },
     "execution_count": 5,
     "metadata": {},
     "output_type": "execute_result"
    }
   ],
   "source": [
    "pd.Series(x1).quantile([0.05, 0.1, 0.25, 0.5, 0.75, 0.9, 0.95])"
   ]
  },
  {
   "cell_type": "code",
   "execution_count": 42,
   "metadata": {},
   "outputs": [
    {
     "data": {
      "text/plain": [
       "{0.05: -1.2455298430268633,\n",
       " 0.1: -0.6496885625434882,\n",
       " 0.25: 0.5544875835358687,\n",
       " 0.5: 1.9510789258087924,\n",
       " 0.75: 3.331628657583692,\n",
       " 0.9: 4.720798065029537,\n",
       " 0.95: 5.449621036690693}"
      ]
     },
     "execution_count": 42,
     "metadata": {},
     "output_type": "execute_result"
    }
   ],
   "source": [
    "hd_est(x1, [0.05, 0.1, 0.25, 0.5, 0.75, 0.9, 0.95])"
   ]
  },
  {
   "cell_type": "markdown",
   "metadata": {},
   "source": [
    "Tiếp theo, ta thử 1 phân bố Gamma: "
   ]
  },
  {
   "cell_type": "code",
   "execution_count": 21,
   "metadata": {},
   "outputs": [
    {
     "data": {
      "text/plain": [
       "<matplotlib.axes._subplots.AxesSubplot at 0x2a2b7b93508>"
      ]
     },
     "execution_count": 21,
     "metadata": {},
     "output_type": "execute_result"
    },
    {
     "data": {
      "image/png": "[encoded data removed]",
      "text/plain": [
       "<Figure size 432x288 with 1 Axes>"
      ]
     },
     "metadata": {
      "needs_background": "light"
     },
     "output_type": "display_data"
    }
   ],
   "source": [
    "x2 = np.random.gamma(0.5,1.5,500)\n",
    "sns.kdeplot(x2, shade = True, color ='green')"
   ]
  },
  {
   "cell_type": "code",
   "execution_count": 56,
   "metadata": {},
   "outputs": [
    {
     "data": {
      "text/plain": [
       "{0.005: 0.0001026091607708306,\n",
       " 0.01: 0.00023360579607471338,\n",
       " 0.025: 0.0005628945845730341,\n",
       " 0.05: 0.002092419503388934,\n",
       " 0.1: 0.010098622896611535,\n",
       " 0.25: 0.07654820180228201,\n",
       " 0.5: 0.33055578564850896,\n",
       " 0.75: 0.9907951437148519,\n",
       " 0.9: 2.08160919487015,\n",
       " 0.95: 2.9171227460132703,\n",
       " 0.975: 3.9172946219770206,\n",
       " 0.99: 5.125171759805245}"
      ]
     },
     "execution_count": 56,
     "metadata": {},
     "output_type": "execute_result"
    }
   ],
   "source": [
    "hd_est(x2, [0.005,0.01, 0.025, 0.05, 0.1, 0.25, 0.5, 0.75, 0.9, 0.95, 0.975, 0.99])"
   ]
  },
  {
   "cell_type": "markdown",
   "metadata": {},
   "source": [
    "Ta thử tiếp 1 phân bố 2 modes"
   ]
  },
  {
   "cell_type": "code",
   "execution_count": 58,
   "metadata": {},
   "outputs": [
    {
     "data": {
      "text/plain": [
       "<matplotlib.axes._subplots.AxesSubplot at 0x230ab4e10c8>"
      ]
     },
     "execution_count": 58,
     "metadata": {},
     "output_type": "execute_result"
    },
    {
     "data": {
      "image/png": "[encoded data removed]",
      "text/plain": [
       "<Figure size 432x288 with 1 Axes>"
      ]
     },
     "metadata": {
      "needs_background": "light"
     },
     "output_type": "display_data"
    }
   ],
   "source": [
    "np.random.seed(123)\n",
    "\n",
    "x1 = np.random.normal(loc=2, scale=2, size=1000)\n",
    "x2 = np.random.normal(loc= 12, scale=3, size=1000)\n",
    "b = np.random.binomial(1, 0.4, 1000)\n",
    "x3 = x1*(b) + x2*(1-b)\n",
    "\n",
    "sns.kdeplot(x3, shade = True, color ='blue')"
   ]
  },
  {
   "cell_type": "code",
   "execution_count": 59,
   "metadata": {},
   "outputs": [
    {
     "data": {
      "text/plain": [
       "{0.005: -2.6794773528069573,\n",
       " 0.01: -2.1325375673411577,\n",
       " 0.025: -1.3281861473835403,\n",
       " 0.05: -0.581534694959542,\n",
       " 0.1: 0.4413632431720716,\n",
       " 0.25: 2.3896328260995574,\n",
       " 0.5: 9.222760424625701,\n",
       " 0.75: 12.761002429408897,\n",
       " 0.9: 14.803737372537297,\n",
       " 0.95: 15.922371588558345,\n",
       " 0.975: 16.794441983269117,\n",
       " 0.99: 18.255771606043165}"
      ]
     },
     "execution_count": 59,
     "metadata": {},
     "output_type": "execute_result"
    }
   ],
   "source": [
    "hd_est(x3, [0.005,0.01, 0.025, 0.05, 0.1, 0.25, 0.5, 0.75, 0.9, 0.95, 0.975, 0.99])"
   ]
  },
  {
   "cell_type": "markdown",
   "metadata": {},
   "source": [
    "#  Khoảng tin cậy của Harrell-Davis quantile\n",
    "\n",
    "Trước khi áp dụng phương pháp Harrell-Davis vào kiểm định so sánh, Nhi cần một bước trung gian, đó là dùng bootstrap để tái chọn mẫu rồi lặp lại việc ước tính phân vị rất nhiều lần; kết quả của quy trình bootstrap này sẽ cho phép ta xác định khoảng tin cậy của giá trị phân vị mục tiêu. \n",
    "\n",
    "Quy trình bootstrap cần 2 hàm, một hàm cơ bản tính Harrel-Davis quantile, một hàm tái chọn mẫu và ghi kết quả:"
   ]
  },
  {
   "cell_type": "code",
   "execution_count": 87,
   "metadata": {},
   "outputs": [],
   "source": [
    "def boot_hdq(x, nboot = 1000, qseq = [0.5], alpha = 0.05):\n",
    "    if isinstance(x, list):\n",
    "        x = np.array(x)\n",
    "    \n",
    "    x = x[~np.isnan(x)]\n",
    "    \n",
    "    xb = np.random.choice(x, size = (nboot, x.shape[0]))\n",
    "    xq = dict.fromkeys(qseq)\n",
    "        \n",
    "    def hd_est(x):\n",
    "        xs = np.sort(x, axis=0)\n",
    "        n = len(x)\n",
    "        vec = np.arange(n)\n",
    "        m1 = (n + 1) * q\n",
    "        m2 = (n + 1) * (1 - q)\n",
    "        wx = (stats.beta.cdf(vec/n, m1, m2) -\n",
    "        stats.beta.cdf((vec-1)/n, m1, m2))\n",
    "        hdq = (wx * xs).sum()\n",
    "        return hdq\n",
    "    \n",
    "    for q in qseq:\n",
    "        out = np.apply_along_axis(hd_est, 1, xb)\n",
    "        \n",
    "        xq[q] = out\n",
    "            \n",
    "    return xq"
   ]
  },
  {
   "cell_type": "code",
   "execution_count": 89,
   "metadata": {},
   "outputs": [],
   "source": [
    "out_b = boot_hdq(x1, nboot = 1000, \n",
    "               qseq = [0.025, 0.05, 0.1, 0.25, 0.5, 0.75, 0.9, 0.95, 0.975])"
   ]
  },
  {
   "cell_type": "code",
   "execution_count": 90,
   "metadata": {},
   "outputs": [
    {
     "data": {
      "image/png": "[encoded data removed]",
      "text/plain": [
       "<Figure size 432x288 with 1 Axes>"
      ]
     },
     "metadata": {
      "needs_background": "light"
     },
     "output_type": "display_data"
    }
   ],
   "source": [
    "for i in out.keys():\n",
    "    sns.kdeplot(out_b[i], shade = True, label = str(i))"
   ]
  },
  {
   "cell_type": "code",
   "execution_count": 102,
   "metadata": {},
   "outputs": [
    {
     "name": "stdout",
     "output_type": "stream",
     "text": [
      "0.025: CI:[-2.29881221 -1.64654963]\n",
      "0.05: CI:[-1.86466703 -1.41614217]\n",
      "0.1: CI:[-1.46719773 -1.17776609]\n",
      "0.25: CI:[-0.87520349 -0.56814821]\n",
      "0.5: CI:[-0.17365751  0.11945561]\n",
      "0.75: CI:[0.48568342 0.81904807]\n",
      "0.9: CI:[1.15170693 1.51956354]\n",
      "0.95: CI:[1.50242132 1.97964521]\n",
      "0.975: CI:[1.80027218 2.35846589]\n"
     ]
    }
   ],
   "source": [
    "for i in out_b.keys():\n",
    "    print(f'{i}: CI:{np.quantile(out_b[i], [0.025,0.975])}')"
   ]
  },
  {
   "cell_type": "code",
   "execution_count": 91,
   "metadata": {},
   "outputs": [],
   "source": [
    "out_b2 = boot_hdq(x2, nboot = 1000, \n",
    "               qseq = [0.1, 0.2, 0.3, 0.4, 0.5, 0.6, 0.7, ])"
   ]
  },
  {
   "cell_type": "code",
   "execution_count": 92,
   "metadata": {},
   "outputs": [
    {
     "data": {
      "image/png": "[encoded data removed]",
      "text/plain": [
       "<Figure size 432x288 with 1 Axes>"
      ]
     },
     "metadata": {
      "needs_background": "light"
     },
     "output_type": "display_data"
    }
   ],
   "source": [
    "for i in out_b2.keys():\n",
    "    sns.kdeplot(out_b2[i], shade = True, label = str(i))"
   ]
  },
  {
   "cell_type": "code",
   "execution_count": 160,
   "metadata": {},
   "outputs": [
    {
     "name": "stdout",
     "output_type": "stream",
     "text": [
      "0.1: CI:[0.0117782  0.02616592]\n",
      "0.2: CI:[0.04426303 0.08626382]\n",
      "0.3: CI:[0.10752658 0.17944012]\n",
      "0.4: CI:[0.20301506 0.30508728]\n",
      "0.5: CI:[0.32529098 0.44811184]\n",
      "0.6: CI:[0.47803924 0.63282421]\n",
      "0.7: CI:[0.68870262 0.95462812]\n"
     ]
    }
   ],
   "source": [
    "for i in out_b2.keys():\n",
    "    print(f'{i}: CI:{np.quantile(out_b2[i], [0.025,0.975])}')"
   ]
  },
  {
   "cell_type": "markdown",
   "metadata": {},
   "source": [
    "# Harrell-Davis quantile ứng dụng vào so sánh phân vị\n",
    "\n",
    "Quan sát hình ảnh phân bố kết quả bootstrap của giá trị quantile, ta thấy đây là những phân bố Gaussian;\n",
    "\n",
    "Khi có trong tay khoảng tin cậy như thế này, ta đã tiến rất gần đến một khả năng suy luận thống kê nhằm so sánh giữa 2 mẫu.\n",
    "Như vậy, kết quả bootstrap của quantile theo Harrell-Davis có thể sử dụng như 1 trị số thống kê nhằm mục tiêu so sánh một phân vị bất kì giữa 2 mẫu, giống như cách ta dùng t-test để so sánh khác biệt giữa 2 trung bình.\n",
    "\n",
    "Ta làm thí nghiệm: So sánh 5 phân vị thứ 5, 25, 50, 75 và 95 giữa 2 arrays x3 và x4:\n",
    "\n",
    "Biểu đồ KDE cho thấy khác biệt giữa x3 và x4 là rất khó phân định:"
   ]
  },
  {
   "cell_type": "code",
   "execution_count": 157,
   "metadata": {},
   "outputs": [
    {
     "data": {
      "text/plain": [
       "<matplotlib.axes._subplots.AxesSubplot at 0x2a2b8112208>"
      ]
     },
     "execution_count": 157,
     "metadata": {},
     "output_type": "execute_result"
    },
    {
     "data": {
      "image/png": "[encoded data removed]",
      "text/plain": [
       "<Figure size 432x288 with 1 Axes>"
      ]
     },
     "metadata": {
      "needs_background": "light"
     },
     "output_type": "display_data"
    }
   ],
   "source": [
    "x3 = np.random.gamma(0.5,1,500)\n",
    "x4 = x3 + np.random.normal(0.2,0.08,500)\n",
    "\n",
    "sns.kdeplot(x3, shade = True, label ='x3')\n",
    "sns.kdeplot(x4, shade = True, label = 'x4')"
   ]
  },
  {
   "cell_type": "markdown",
   "metadata": {},
   "source": [
    "Ta áp dụng bootstrap để tính 100 lượt giá trị 5 phân vị cho x3 và x4:"
   ]
  },
  {
   "cell_type": "code",
   "execution_count": 158,
   "metadata": {},
   "outputs": [],
   "source": [
    "out_3 = boot_hdq(x3, nboot = 100, \n",
    "               qseq = [0.05, 0.25, 0.5, 0.75, 0.95])\n",
    "\n",
    "out_4 = boot_hdq(x4, nboot = 100, \n",
    "               qseq = [0.05, 0.25, 0.5, 0.75, 0.95])"
   ]
  },
  {
   "cell_type": "markdown",
   "metadata": {},
   "source": [
    "Từ kết quả bootstrap, ta có thể so sánh dựa vào khoảng tin cậy 95% hoặc qua t-test"
   ]
  },
  {
   "cell_type": "code",
   "execution_count": 159,
   "metadata": {},
   "outputs": [
    {
     "name": "stdout",
     "output_type": "stream",
     "text": [
      "[0.00066312 0.00203443] vs [0.14156541 0.16375873]\n",
      "t-test p_value: 3.0349257818451876e-132\n",
      "[0.03770581 0.06551957] vs [0.24338282 0.27312839]\n",
      "t-test p_value: 2.6359684592235896e-210\n",
      "[0.16325136 0.24102471] vs [0.3940512  0.44488012]\n",
      "t-test p_value: 5.853636016932857e-135\n",
      "[0.5431815 0.7667582] vs [0.79774761 0.96365408]\n",
      "t-test p_value: 3.980773730577396e-61\n",
      "[1.88146607 2.56247461] vs [2.11792573 2.71248339]\n",
      "t-test p_value: 1.9393123592354956e-14\n"
     ]
    }
   ],
   "source": [
    "for i,j in zip(out_3.values(),out_4.values()):\n",
    "    print(f'{np.quantile(i, [0.05, 0.95])} vs {np.quantile(j, [0.05, 0.95])}')\n",
    "    print(f't-test p_value: {stats.ttest_ind(j,i, equal_var = False)[1]}')"
   ]
  },
  {
   "cell_type": "markdown",
   "metadata": {},
   "source": [
    "# Kết luận\n",
    "\n",
    "Lợi ích của phương pháp Harrell-Davis ở chỗ nó cho phép ta ước tính được giá trị của bất kì phân vị nào mà không cần giả định về phân phối của dữ liệu; từ đó mở ra một khả năng so sánh bất cứ phân vị nào giữa 2 mẫu (những kiểm định thống kê trước kia chỉ nhằm so sánh giá trị trung bình); \n",
    "\n",
    "Bài thực hành đến đây tạm dừng, các bạn đã có trong tay: \n",
    "\n",
    "1 phép ước tính phân vị phi tham số theo Harrell Davis\n",
    "1 phương pháp so sánh phi tham số nhằm vào các phân vị bất kì giữa 2 phân nhóm.\n",
    "\n",
    "Hẹn gặp lại lần sau..."
   ]
  },
  {
   "cell_type": "code",
   "execution_count": null,
   "metadata": {},
   "outputs": [],
   "source": []
  }
 ],
 "metadata": {
  "hide_input": false,
  "kernelspec": {
   "display_name": "Python 3",
   "language": "python",
   "name": "python3"
  },
  "language_info": {
   "codemirror_mode": {
    "name": "ipython",
    "version": 3
   },
   "file_extension": ".py",
   "mimetype": "text/x-python",
   "name": "python",
   "nbconvert_exporter": "python",
   "pygments_lexer": "ipython3",
   "version": "3.7.6"
  },
  "toc": {
   "base_numbering": 1,
   "nav_menu": {},
   "number_sections": true,
   "sideBar": true,
   "skip_h1_title": false,
   "title_cell": "Table of Contents",
   "title_sidebar": "Contents",
   "toc_cell": false,
   "toc_position": {},
   "toc_section_display": true,
   "toc_window_display": false
  }
 },
 "nbformat": 4,
 "nbformat_minor": 4
}
