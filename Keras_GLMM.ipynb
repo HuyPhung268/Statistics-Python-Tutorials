{
 "cells": [
  {
   "cell_type": "markdown",
   "metadata": {},
   "source": [
    "# Generalized linear mixed model (GLMM) với Keras\n",
    "\n",
    "### BS. Lê Ngọc Khả Nhi\n",
    "\n",
    "# Giới thiệu\n",
    "\n",
    "Thân chào các bạn, trong bài thực hành hôm nay Nhi làm một thí nghiệm với mục tiêu dùng Neural network như công cụ suy diễn thống kê với tính năng như một mô hình Generalized linear mixed model (GLMM).\n",
    "\n",
    "## Tóm tắt về GLMM\n",
    "\n",
    "Trước hết, Nhi tóm tắt lại khái niệm về mô hình GLMM:\n",
    "\n",
    "Như ta biết, mô hình tuyến tính tổng quát (GLM) có dạng: $\\mathbf{y} = \\mathbf{X}\\beta + \\epsilon$, trong đó $\\mathbf{X}$ tương ứng với tập hợp các hiệu ứng chính của các hiệp biến/biến độc lập đối với variance của biến kết quả/phụ thuộc $\\mathbf{y}$. Những hiệu ứng chính này được khảo sát qua giá trị của các coefficients $\\beta$, còn $\\epsilon$ tương ứng với giá trị nhiễu/sai số ngẫu nhiên, với giả định là $\\epsilon\\sim\\mathcal{N}(\\mathbf{0}, \\mathbf{I})$\n",
    "\n",
    "Mô hình tuyến tính hỗn hợp (Mixed linear model hay GLMM) là một sự mở rộng của mô hình GLM, bằng cách đưa thêm vào một nhóm hiệu ứng ngẫu nhiên (random effect) $\\mathbf{Z}\\eta$, trong đó $\\mathbf{Z}$ tương ứng với tập hợp các yếu tố ngẫu nhiên (phân nhóm), đo bằng coefficients $\\eta$. Lúc này nội dung mô hình GLMM trở thành: \\begin{aligned} \\eta &\\sim \\mathcal{N}(\\mathbf{0}, \\sigma^2 \\mathbf{I}), \\\\ \\mathbf{y} &= \\mathbf{X}\\beta + \\mathbf{Z}\\eta + \\epsilon.\\end{aligned}\n",
    "\n",
    "Cách suy luận thống kê với GLMM cũng tương tự GLM, đó là dựa vào dữ liệu, ta sẽ xác định giá trị của $\\beta$, $\\eta$, và $\\sigma^2$, trong đó $\\beta$ được gọi là 'hiệu ứng chinh' (fixed effects), còn $\\eta$ được gọi là hiệu ứng ngẫu nhiên hay bất định (random/latent effect). Trung bình của biến kết quả $\\mathbf{y}$ được ước lượng chủ yếu bằng các hiệu ứng chính $\\mathbf{X}\\beta$, còn nhiệm vụ của $\\eta$ là giải thích càng nhiều càng tốt sai số ngẫu nhiên, vốn được cho là nhiễu trong $\\epsilon$ của mô hình GLM. \n",
    "\n",
    "## Dùng neural network mô phỏng GLMM\n",
    "\n",
    "Trong các bài hoc nhập môn Deep learning (với tensorflow hay Keras), chúng ta đã thấy có thể dùng Neural network như một mô hình GLM, bao gồm logistic model. Như vậy, ta hoàn toàn có thể dùng Neural network như một mô hình GLMM vì so với GLM, GLMM chỉ có thêm 1 bộ phận Z bên cạnh X. \n",
    "\n",
    "Trong bài này, ta sẽ dùng Keras (tensorflow backend) để dựng một neural network có tính năng như một mô hình GLMM\n",
    "\n",
    "Ta dùng dữ liệu minh họa từ nghiên cứu 'University Lecture/Instructor Evaluations by Students at ETH', được trích xuất từ Rpackage lme4.\n",
    "\n",
    "Nội dung dữ liệu như sau:\n",
    "\n",
    "'''\n",
    "University lecture evaluations by students at ETH Zurich, anonymized for privacy protection. This is an interesting “medium” sized example of a partially nested mixed effect model.\n",
    "\n",
    "A data frame with 73421 observations on the following 7 variables.\n",
    "\n",
    "s = a factor with levels 1:2972 denoting individual students.\n",
    "\n",
    "d = a factor with 1128 levels from 1:2160, denoting individual professors or lecturers.\n",
    "\n",
    "studage = an ordered factor with levels 2 < 4 < 6 < 8, denoting student's “age” measured in the semester number the student has been enrolled.\n",
    "\n",
    "lectage\n",
    "an ordered factor with 6 levels, 1 < 2 < ... < 6, measuring how many semesters back the lecture rated had taken place.\n",
    "\n",
    "service = a binary factor with levels 0 and 1; a lecture is a “service”, if held for a different department than the lecturer's main one.\n",
    "\n",
    "dept = a factor with 14 levels from 1:15, using a random code for the department of the lecture.\n",
    "\n",
    "y = a numeric vector of ratings of lectures by the students, using the discrete scale 1:5, with meanings of ‘poor’ to ‘very good’.\n",
    "\n",
    "Each observation is one student's rating for a specific lecture (of one lecturer, during one semester in the past).\n",
    "\n",
    "'''"
   ]
  },
  {
   "cell_type": "code",
   "execution_count": 21,
   "metadata": {},
   "outputs": [],
   "source": [
    "import warnings\n",
    "warnings.filterwarnings('ignore')\n",
    "\n",
    "import numpy as np\n",
    "import pandas as pd\n",
    "from patsy import dmatrices\n",
    "import matplotlib.pyplot as plt\n",
    "\n",
    "import keras\n",
    "from keras.models import Model\n",
    "from keras.layers import Input, Add, Dense\n",
    "from keras import backend as K\n",
    "from keras.callbacks import EarlyStopping"
   ]
  },
  {
   "cell_type": "markdown",
   "metadata": {},
   "source": [
    "Ta tải dữ liệu về và tạo dataframe df có nội dung như sau:"
   ]
  },
  {
   "cell_type": "code",
   "execution_count": 23,
   "metadata": {},
   "outputs": [
    {
     "name": "stdout",
     "output_type": "stream",
     "text": [
      "<class 'pandas.core.frame.DataFrame'>\n",
      "Int64Index: 73421 entries, 1 to 73421\n",
      "Data columns (total 7 columns):\n",
      " #   Column    Non-Null Count  Dtype   \n",
      "---  ------    --------------  -----   \n",
      " 0   Student   73421 non-null  category\n",
      " 1   Lecturer  73421 non-null  category\n",
      " 2   Stud_Age  73421 non-null  object  \n",
      " 3   Lect_Age  73421 non-null  object  \n",
      " 4   Service   73421 non-null  object  \n",
      " 5   Dept      73421 non-null  category\n",
      " 6   Score     73421 non-null  float64 \n",
      "dtypes: category(3), float64(1), object(3)\n",
      "memory usage: 3.3+ MB\n"
     ]
    }
   ],
   "source": [
    "df = pd.read_csv('https://vincentarelbundock.github.io/Rdatasets/csv/lme4/InstEval.csv', index_col=0)\n",
    "\n",
    "df.columns = [\"Student\",\"Lecturer\",\"Stud_Age\",\"Lect_Age\",\"Service\",\"Dept\",\"Score\"]\n",
    "\n",
    "df[\"Student\"] = df[\"Student\"].astype('category')\n",
    "df[\"Lecturer\"] = df[\"Lecturer\"].astype('category')\n",
    "df[\"Dept\"] = df[\"Dept\"].astype('category')\n",
    "\n",
    "df[\"Stud_Age\"] = df[\"Stud_Age\"].astype('object')\n",
    "df[\"Lect_Age\"] = df[\"Lect_Age\"].astype('object')\n",
    "df[\"Service\"] = df[\"Service\"].astype('object')\n",
    "\n",
    "df[\"Score\"] = df[\"Score\"].astype('float')\n",
    "\n",
    "df.info()"
   ]
  },
  {
   "cell_type": "code",
   "execution_count": 19,
   "metadata": {},
   "outputs": [
    {
     "data": {
      "text/html": [
       "<div>\n",
       "<style scoped>\n",
       "    .dataframe tbody tr th:only-of-type {\n",
       "        vertical-align: middle;\n",
       "    }\n",
       "\n",
       "    .dataframe tbody tr th {\n",
       "        vertical-align: top;\n",
       "    }\n",
       "\n",
       "    .dataframe thead th {\n",
       "        text-align: right;\n",
       "    }\n",
       "</style>\n",
       "<table border=\"1\" class=\"dataframe\">\n",
       "  <thead>\n",
       "    <tr style=\"text-align: right;\">\n",
       "      <th></th>\n",
       "      <th>Student</th>\n",
       "      <th>Lecturer</th>\n",
       "      <th>Stud_Age</th>\n",
       "      <th>Lect_Age</th>\n",
       "      <th>Service</th>\n",
       "      <th>Dept</th>\n",
       "      <th>Score</th>\n",
       "    </tr>\n",
       "  </thead>\n",
       "  <tbody>\n",
       "    <tr>\n",
       "      <th>1</th>\n",
       "      <td>1</td>\n",
       "      <td>1002</td>\n",
       "      <td>2</td>\n",
       "      <td>2</td>\n",
       "      <td>0</td>\n",
       "      <td>2</td>\n",
       "      <td>5.0</td>\n",
       "    </tr>\n",
       "    <tr>\n",
       "      <th>2</th>\n",
       "      <td>1</td>\n",
       "      <td>1050</td>\n",
       "      <td>2</td>\n",
       "      <td>1</td>\n",
       "      <td>1</td>\n",
       "      <td>6</td>\n",
       "      <td>2.0</td>\n",
       "    </tr>\n",
       "    <tr>\n",
       "      <th>3</th>\n",
       "      <td>1</td>\n",
       "      <td>1582</td>\n",
       "      <td>2</td>\n",
       "      <td>2</td>\n",
       "      <td>0</td>\n",
       "      <td>2</td>\n",
       "      <td>5.0</td>\n",
       "    </tr>\n",
       "    <tr>\n",
       "      <th>4</th>\n",
       "      <td>1</td>\n",
       "      <td>2050</td>\n",
       "      <td>2</td>\n",
       "      <td>2</td>\n",
       "      <td>1</td>\n",
       "      <td>3</td>\n",
       "      <td>3.0</td>\n",
       "    </tr>\n",
       "    <tr>\n",
       "      <th>5</th>\n",
       "      <td>2</td>\n",
       "      <td>115</td>\n",
       "      <td>2</td>\n",
       "      <td>1</td>\n",
       "      <td>0</td>\n",
       "      <td>5</td>\n",
       "      <td>2.0</td>\n",
       "    </tr>\n",
       "  </tbody>\n",
       "</table>\n",
       "</div>"
      ],
      "text/plain": [
       "  Student Lecturer Stud_Age Lect_Age Service Dept  Score\n",
       "1       1     1002        2        2       0    2    5.0\n",
       "2       1     1050        2        1       1    6    2.0\n",
       "3       1     1582        2        2       0    2    5.0\n",
       "4       1     2050        2        2       1    3    3.0\n",
       "5       2      115        2        1       0    5    2.0"
      ]
     },
     "execution_count": 19,
     "metadata": {},
     "output_type": "execute_result"
    }
   ],
   "source": [
    "df.head(5)"
   ]
  },
  {
   "cell_type": "markdown",
   "metadata": {},
   "source": [
    "Mục tiêu giả định là dựng một mô hình GLMM với nội dung :\n",
    "    \n",
    "'Score ~ Stud_Age + Lect_Age + Service + (1|Student) + (1|Lecturer) + (1|Dept), data = df'\n",
    "\n",
    "Sau đây là kết quả của mô hình dựng bằng lme4 trong R:"
   ]
  },
  {
   "cell_type": "code",
   "execution_count": null,
   "metadata": {},
   "outputs": [],
   "source": [
    "### R codes\n",
    "\n",
    "library('lme4')\n",
    "\n",
    "mod = lmer(Score ~ Stud_Age + Lect_Age + Service + (1|Student) + (1|Lecturer) + (1|Dept), data = df)\n",
    "\n",
    "summary(mod)\n",
    "\n",
    "\n",
    "#### OUTPUT\n",
    "\n",
    "Linear mixed model fit by REML ['lmerMod']\n",
    "Formula: Score ~ Stud_Age + Lect_Age + Service + (1 | Student) + (1 |      Lecturer) + (1 | Dept)\n",
    "   Data: data\n",
    "\n",
    "REML criterion at convergence: 237615.8\n",
    "\n",
    "Scaled residuals: \n",
    "     Min       1Q   Median       3Q      Max \n",
    "-3.09054 -0.74589  0.04067  0.77162  3.15582 \n",
    "\n",
    "Random effects:\n",
    " Groups   Name        Variance Std.Dev.\n",
    " Student  (Intercept) 0.106724 0.32669 \n",
    " Lecturer (Intercept) 0.260789 0.51067 \n",
    " Dept     (Intercept) 0.006926 0.08323 \n",
    " Residual             1.383443 1.17620 \n",
    "Number of obs: 73421, groups:  Student, 2972; Lecturer, 1128; Dept, 14\n",
    "\n",
    "Fixed effects:\n",
    "            Estimate Std. Error t value\n",
    "(Intercept)  3.29077    0.03325  98.971\n",
    "Stud_Age4    0.05197    0.02318   2.242\n",
    "Stud_Age6    0.07216    0.02398   3.010\n",
    "Stud_Age8    0.13634    0.02639   5.166\n",
    "Lect_Age2   -0.08074    0.01538  -5.249\n",
    "Lect_Age3   -0.11019    0.01672  -6.588\n",
    "Lect_Age4   -0.18917    0.01960  -9.650\n",
    "Lect_Age5   -0.16443    0.02141  -7.681\n",
    "Lect_Age6   -0.24604    0.02049 -12.009\n",
    "Service1    -0.07278    0.01348  -5.399\n",
    "\n",
    "Correlation of Fixed Effects:\n",
    "          (Intr) Std_A4 Std_A6 Std_A8 Lct_A2 Lct_A3 Lct_A4 Lct_A5 Lct_A6\n",
    "Stud_Age4 -0.322                                                        \n",
    "Stud_Age6 -0.353  0.517                                                 \n",
    "Stud_Age8 -0.346  0.491  0.575                                          \n",
    "Lect_Age2 -0.195 -0.009 -0.023 -0.025                                   \n",
    "Lect_Age3 -0.034 -0.197 -0.236 -0.259  0.342                            \n",
    "Lect_Age4 -0.057 -0.170 -0.209 -0.234  0.473  0.403                     \n",
    "Lect_Age5  0.000 -0.136 -0.274 -0.283  0.300  0.417  0.374              \n",
    "Lect_Age6  0.004 -0.144 -0.297 -0.373  0.406  0.447  0.498  0.490       \n",
    "Service1  -0.142  0.017  0.056  0.054 -0.033 -0.044 -0.063 -0.072 -0.121"
   ]
  },
  {
   "cell_type": "markdown",
   "metadata": {},
   "source": [
    "# GLMM neural network bằng Keras"
   ]
  },
  {
   "cell_type": "markdown",
   "metadata": {},
   "source": [
    "Nhi viết một class Keras_GLMM với tính năng dựng một neural network bằng keras và tensorflow từ 2 công thức của fixed_effect và random_effects, sau đó fit model này trên dữ liệu đầu vào. Mô hình sau khi huấn luyện có thể xuất ra nội dung của betas trong fixed effects với cấu trúc gần giống như một mô hình GLMM mà ta thấy trong R.\n",
    "\n",
    "Cơ chế hoạt động như sau:\n",
    "\n",
    "Từ 2 formulas cho Fixed và Random effects, ta dùng hàm dmatrices của package patsy để dựng design matrices X,Y,Z và danh sách tên của fixed effects trong X.\n",
    "\n",
    "Mô hình neural network GLMM gồm 2 input layers riêng, tiếp nhận X và Z, mỗi input layer này nối trực tiếp với 1 output neuron để ước lượng fixed và random effects, 2 neuron này sau đó sẽ được cộng chung với nhau để xuất kết quả Y qua 1 output neuron sau cùng.\n",
    "\n",
    "Cấu trúc này được huấn luyện theo cơ chế 'SGD' nhằm tối thiểu giá trị hàm loss là 'mean_squared_error', \n",
    "\n",
    "Lịch sử huấn luyện có thể xem lại qua biểu đồ learning curve\n",
    "\n",
    "Cuối cùng, method Summary cho phép xuất giá trị betas và etas\n",
    "\n",
    "(Code này dựa trên một bài giảng của anh Junpeng Lao, một kỹ sư tại Google)"
   ]
  },
  {
   "cell_type": "code",
   "execution_count": 72,
   "metadata": {
    "run_control": {
     "marked": false
    }
   },
   "outputs": [],
   "source": [
    "class Keras_GLMM:\n",
    "    \n",
    "    def __init__(self, data, fe_form, re_form):\n",
    "        self.data = data\n",
    "        self.fe_form = fe_form\n",
    "        self.re_form = re_form\n",
    "        \n",
    "        self.Y, self.X = dmatrices(self.fe_form, \n",
    "                                   data=self.data, \n",
    "                                   return_type='matrix')\n",
    "        \n",
    "        self.Terms = self.X.design_info.column_names\n",
    "        \n",
    "        self.X = np.asarray(self.X)\n",
    "        self.Y = np.asarray(self.Y).flatten()\n",
    "        \n",
    "        _, self.Z = dmatrices(self.re_form, \n",
    "                              data=self.data, \n",
    "                              return_type='matrix')\n",
    "        \n",
    "        self.Z = np.asarray(self.Z)\n",
    "        \n",
    "        self.n_fixed = np.shape(self.X)\n",
    "        self.n_randm = np.shape(self.Z)\n",
    "        \n",
    "    def Model_build(self):\n",
    "        K.clear_session()\n",
    "\n",
    "        fixedpred = np.argmax(self.X,axis=1)\n",
    "        randmpred = np.argmax(self.Z,axis=1)\n",
    "\n",
    "        X_input = Input(batch_shape=(None, self.n_fixed[1]-1))\n",
    "        fixed_comp = Dense(1, input_dim = self.n_fixed[1]-1, name = 'Fixed_effect')(X_input)\n",
    "\n",
    "        Z_input  = Input(batch_shape=(None, self.n_randm[1]))\n",
    "        randm_comp = Dense(1, input_dim = self.n_randm[1], use_bias=None, name = 'Random_Effect')(Z_input)\n",
    "\n",
    "        mixed = keras.layers.add([fixed_comp, randm_comp])\n",
    "\n",
    "        self.model = Model([X_input, Z_input], mixed)\n",
    "\n",
    "        self.model.compile(loss='mean_squared_error', \n",
    "                           optimizer='sgd')\n",
    "        return self.model\n",
    "    \n",
    "    def Model_fit(self, n_epoch = 100, batch_size = 500, patience = 30):\n",
    "        try:\n",
    "            early_stop = EarlyStopping(monitor = 'loss', patience = patience)\n",
    "\n",
    "            self.hist = self.model.fit([self.X[:,1:], self.Z], self.Y.flatten(), \n",
    "                                  epochs = n_epoch, \n",
    "                                  batch_size = batch_size, \n",
    "                                  verbose=0,\n",
    "                                  shuffle=True,\n",
    "                                  callbacks=[early_stop])\n",
    "        except:\n",
    "            print('Mô hình chưa được compile, hãy dùng method Model_build')\n",
    "    \n",
    "    def history_plot(self):\n",
    "        try:\n",
    "            plt.figure(figsize=(10,5))\n",
    "            plt.plot(self.hist.history['loss'],'b-',label='train')\n",
    "            plt.title('Model loss')\n",
    "            plt.ylabel('Mean squared error')\n",
    "            plt.xlabel('epoch')\n",
    "            plt.legend()\n",
    "            plt.show()\n",
    "        except:\n",
    "            print('Mô hình chưa được tạo ra hoặc chưa được huấn luyện')\n",
    "            \n",
    "    def Summary(self):\n",
    "        try:\n",
    "            Ypredict = self.model.predict([self.X[:,1:], self.Z])\n",
    "            betas = np.hstack((self.model.get_weights()[1], \n",
    "                               self.model.get_weights()[0].flatten()))\n",
    "\n",
    "            etas = self.model.get_weights()[2].flatten()\n",
    "\n",
    "            fe_params = pd.DataFrame(betas, index = self.Terms, columns=['Keras_GLMM'])\n",
    "            re_params = pd.Series(etas)            \n",
    "            \n",
    "            self.model.summary()\n",
    "            return fe_params, re_params\n",
    "        \n",
    "        except:\n",
    "            print('Mô hình chưa được tạo ra hoặc chưa được huấn luyện')"
   ]
  },
  {
   "cell_type": "markdown",
   "metadata": {},
   "source": [
    "Ta áp dụng class Keras_GLMM như sau:\n",
    "    \n",
    "Trước hết khai báo 2 công thức fe_form, re_form và dataframe df, ta tạo ra được objet mod"
   ]
  },
  {
   "cell_type": "code",
   "execution_count": 73,
   "metadata": {},
   "outputs": [],
   "source": [
    "mod = Keras_GLMM(data = df,  \n",
    "                 fe_form = 'Score ~ Stud_Age + Lect_Age + Service', \n",
    "                 re_form = 'Score ~ -1 + Student+Lecturer+Dept')"
   ]
  },
  {
   "cell_type": "markdown",
   "metadata": {},
   "source": [
    "Do mô hình chưa được khởi tạo, các method history_plot, Summary chưa thể hoạt động:"
   ]
  },
  {
   "cell_type": "code",
   "execution_count": 74,
   "metadata": {},
   "outputs": [
    {
     "name": "stdout",
     "output_type": "stream",
     "text": [
      "Mô hình chưa được tạo ra hoặc chưa được huấn luyện\n"
     ]
    },
    {
     "data": {
      "text/plain": [
       "<Figure size 720x360 with 0 Axes>"
      ]
     },
     "metadata": {},
     "output_type": "display_data"
    }
   ],
   "source": [
    "mod.history_plot()"
   ]
  },
  {
   "cell_type": "code",
   "execution_count": 75,
   "metadata": {},
   "outputs": [
    {
     "name": "stdout",
     "output_type": "stream",
     "text": [
      "Mô hình chưa được tạo ra hoặc chưa được huấn luyện\n"
     ]
    }
   ],
   "source": [
    "mod.Summary()"
   ]
  },
  {
   "cell_type": "markdown",
   "metadata": {},
   "source": [
    "Ta khởi tạo mô hình bằng method Model_build(), bạn cũng có thể trực tiếp dùng Model_fit"
   ]
  },
  {
   "cell_type": "code",
   "execution_count": 77,
   "metadata": {},
   "outputs": [
    {
     "data": {
      "text/plain": [
       "<keras.engine.training.Model at 0x25b65143048>"
      ]
     },
     "execution_count": 77,
     "metadata": {},
     "output_type": "execute_result"
    }
   ],
   "source": [
    "mod.Model_build()"
   ]
  },
  {
   "cell_type": "markdown",
   "metadata": {},
   "source": [
    "Khi mới vừa tạo ra, mô hình chưa được huấn luyện nên nội dung betas là ngẫu nhiên và không sử dụng được:"
   ]
  },
  {
   "cell_type": "code",
   "execution_count": 80,
   "metadata": {},
   "outputs": [
    {
     "name": "stdout",
     "output_type": "stream",
     "text": [
      "Model: \"model_1\"\n",
      "__________________________________________________________________________________________________\n",
      "Layer (type)                    Output Shape         Param #     Connected to                     \n",
      "==================================================================================================\n",
      "input_1 (InputLayer)            (None, 9)            0                                            \n",
      "__________________________________________________________________________________________________\n",
      "input_2 (InputLayer)            (None, 4112)         0                                            \n",
      "__________________________________________________________________________________________________\n",
      "Fixed_effect (Dense)            (None, 1)            10          input_1[0][0]                    \n",
      "__________________________________________________________________________________________________\n",
      "Random_Effect (Dense)           (None, 1)            4112        input_2[0][0]                    \n",
      "__________________________________________________________________________________________________\n",
      "add_1 (Add)                     (None, 1)            0           Fixed_effect[0][0]               \n",
      "                                                                 Random_Effect[0][0]              \n",
      "==================================================================================================\n",
      "Total params: 4,122\n",
      "Trainable params: 4,122\n",
      "Non-trainable params: 0\n",
      "__________________________________________________________________________________________________\n"
     ]
    },
    {
     "data": {
      "text/html": [
       "<div>\n",
       "<style scoped>\n",
       "    .dataframe tbody tr th:only-of-type {\n",
       "        vertical-align: middle;\n",
       "    }\n",
       "\n",
       "    .dataframe tbody tr th {\n",
       "        vertical-align: top;\n",
       "    }\n",
       "\n",
       "    .dataframe thead th {\n",
       "        text-align: right;\n",
       "    }\n",
       "</style>\n",
       "<table border=\"1\" class=\"dataframe\">\n",
       "  <thead>\n",
       "    <tr style=\"text-align: right;\">\n",
       "      <th></th>\n",
       "      <th>Keras_GLMM</th>\n",
       "    </tr>\n",
       "  </thead>\n",
       "  <tbody>\n",
       "    <tr>\n",
       "      <th>Intercept</th>\n",
       "      <td>0.000000</td>\n",
       "    </tr>\n",
       "    <tr>\n",
       "      <th>Stud_Age[T.4]</th>\n",
       "      <td>-0.462801</td>\n",
       "    </tr>\n",
       "    <tr>\n",
       "      <th>Stud_Age[T.6]</th>\n",
       "      <td>-0.357625</td>\n",
       "    </tr>\n",
       "    <tr>\n",
       "      <th>Stud_Age[T.8]</th>\n",
       "      <td>-0.198635</td>\n",
       "    </tr>\n",
       "    <tr>\n",
       "      <th>Lect_Age[T.2]</th>\n",
       "      <td>0.301004</td>\n",
       "    </tr>\n",
       "    <tr>\n",
       "      <th>Lect_Age[T.3]</th>\n",
       "      <td>-0.605316</td>\n",
       "    </tr>\n",
       "    <tr>\n",
       "      <th>Lect_Age[T.4]</th>\n",
       "      <td>0.607983</td>\n",
       "    </tr>\n",
       "    <tr>\n",
       "      <th>Lect_Age[T.5]</th>\n",
       "      <td>0.147077</td>\n",
       "    </tr>\n",
       "    <tr>\n",
       "      <th>Lect_Age[T.6]</th>\n",
       "      <td>0.206578</td>\n",
       "    </tr>\n",
       "    <tr>\n",
       "      <th>Service[T.1]</th>\n",
       "      <td>-0.029131</td>\n",
       "    </tr>\n",
       "  </tbody>\n",
       "</table>\n",
       "</div>"
      ],
      "text/plain": [
       "               Keras_GLMM\n",
       "Intercept        0.000000\n",
       "Stud_Age[T.4]   -0.462801\n",
       "Stud_Age[T.6]   -0.357625\n",
       "Stud_Age[T.8]   -0.198635\n",
       "Lect_Age[T.2]    0.301004\n",
       "Lect_Age[T.3]   -0.605316\n",
       "Lect_Age[T.4]    0.607983\n",
       "Lect_Age[T.5]    0.147077\n",
       "Lect_Age[T.6]    0.206578\n",
       "Service[T.1]    -0.029131"
      ]
     },
     "execution_count": 80,
     "metadata": {},
     "output_type": "execute_result"
    }
   ],
   "source": [
    "fe_df, re_df = mod.Summary()\n",
    "\n",
    "fe_df"
   ]
  },
  {
   "cell_type": "markdown",
   "metadata": {},
   "source": [
    "Ta bắt đầu huấn luyện (mặc định là 100 epochs với batch_size = 500). Đây là 1 dữ liệu rất lớn với 73,421 trường hợp, nên hy vọng bạn có GPU trong máy của mình. Nếu bạn chỉ có CPU, có thể chạy notebook này trên google colab."
   ]
  },
  {
   "cell_type": "code",
   "execution_count": 81,
   "metadata": {},
   "outputs": [],
   "source": [
    "mod.Model_fit()"
   ]
  },
  {
   "cell_type": "markdown",
   "metadata": {},
   "source": [
    "Mô hình sau huấn luyện được lưu trong mod.model, ta có thể dùng method summary của keras"
   ]
  },
  {
   "cell_type": "code",
   "execution_count": 82,
   "metadata": {},
   "outputs": [
    {
     "name": "stdout",
     "output_type": "stream",
     "text": [
      "Model: \"model_1\"\n",
      "__________________________________________________________________________________________________\n",
      "Layer (type)                    Output Shape         Param #     Connected to                     \n",
      "==================================================================================================\n",
      "input_1 (InputLayer)            (None, 9)            0                                            \n",
      "__________________________________________________________________________________________________\n",
      "input_2 (InputLayer)            (None, 4112)         0                                            \n",
      "__________________________________________________________________________________________________\n",
      "Fixed_effect (Dense)            (None, 1)            10          input_1[0][0]                    \n",
      "__________________________________________________________________________________________________\n",
      "Random_Effect (Dense)           (None, 1)            4112        input_2[0][0]                    \n",
      "__________________________________________________________________________________________________\n",
      "add_1 (Add)                     (None, 1)            0           Fixed_effect[0][0]               \n",
      "                                                                 Random_Effect[0][0]              \n",
      "==================================================================================================\n",
      "Total params: 4,122\n",
      "Trainable params: 4,122\n",
      "Non-trainable params: 0\n",
      "__________________________________________________________________________________________________\n"
     ]
    }
   ],
   "source": [
    "mod.model.summary()"
   ]
  },
  {
   "cell_type": "markdown",
   "metadata": {},
   "source": [
    "Method history_plot vẽ learning curve"
   ]
  },
  {
   "cell_type": "code",
   "execution_count": 83,
   "metadata": {},
   "outputs": [
    {
     "data": {
      "image/png": "[encoded data removed]",
      "text/plain": [
       "<Figure size 720x360 with 1 Axes>"
      ]
     },
     "metadata": {
      "needs_background": "light"
     },
     "output_type": "display_data"
    }
   ],
   "source": [
    "mod.history_plot()"
   ]
  },
  {
   "cell_type": "markdown",
   "metadata": {},
   "source": [
    "Bây giờ ta có thể dùng method Summary để lấy nội dung betas và etas:"
   ]
  },
  {
   "cell_type": "code",
   "execution_count": 84,
   "metadata": {},
   "outputs": [
    {
     "name": "stdout",
     "output_type": "stream",
     "text": [
      "Model: \"model_1\"\n",
      "__________________________________________________________________________________________________\n",
      "Layer (type)                    Output Shape         Param #     Connected to                     \n",
      "==================================================================================================\n",
      "input_1 (InputLayer)            (None, 9)            0                                            \n",
      "__________________________________________________________________________________________________\n",
      "input_2 (InputLayer)            (None, 4112)         0                                            \n",
      "__________________________________________________________________________________________________\n",
      "Fixed_effect (Dense)            (None, 1)            10          input_1[0][0]                    \n",
      "__________________________________________________________________________________________________\n",
      "Random_Effect (Dense)           (None, 1)            4112        input_2[0][0]                    \n",
      "__________________________________________________________________________________________________\n",
      "add_1 (Add)                     (None, 1)            0           Fixed_effect[0][0]               \n",
      "                                                                 Random_Effect[0][0]              \n",
      "==================================================================================================\n",
      "Total params: 4,122\n",
      "Trainable params: 4,122\n",
      "Non-trainable params: 0\n",
      "__________________________________________________________________________________________________\n"
     ]
    }
   ],
   "source": [
    "fe_df, re_df = mod.Summary()"
   ]
  },
  {
   "cell_type": "markdown",
   "metadata": {},
   "source": [
    "Nội dung betas như sau:"
   ]
  },
  {
   "cell_type": "code",
   "execution_count": 85,
   "metadata": {},
   "outputs": [
    {
     "data": {
      "text/html": [
       "<div>\n",
       "<style scoped>\n",
       "    .dataframe tbody tr th:only-of-type {\n",
       "        vertical-align: middle;\n",
       "    }\n",
       "\n",
       "    .dataframe tbody tr th {\n",
       "        vertical-align: top;\n",
       "    }\n",
       "\n",
       "    .dataframe thead th {\n",
       "        text-align: right;\n",
       "    }\n",
       "</style>\n",
       "<table border=\"1\" class=\"dataframe\">\n",
       "  <thead>\n",
       "    <tr style=\"text-align: right;\">\n",
       "      <th></th>\n",
       "      <th>Keras_GLMM</th>\n",
       "    </tr>\n",
       "  </thead>\n",
       "  <tbody>\n",
       "    <tr>\n",
       "      <th>Intercept</th>\n",
       "      <td>3.186542</td>\n",
       "    </tr>\n",
       "    <tr>\n",
       "      <th>Stud_Age[T.4]</th>\n",
       "      <td>0.053660</td>\n",
       "    </tr>\n",
       "    <tr>\n",
       "      <th>Stud_Age[T.6]</th>\n",
       "      <td>0.062380</td>\n",
       "    </tr>\n",
       "    <tr>\n",
       "      <th>Stud_Age[T.8]</th>\n",
       "      <td>0.141339</td>\n",
       "    </tr>\n",
       "    <tr>\n",
       "      <th>Lect_Age[T.2]</th>\n",
       "      <td>-0.067621</td>\n",
       "    </tr>\n",
       "    <tr>\n",
       "      <th>Lect_Age[T.3]</th>\n",
       "      <td>-0.107238</td>\n",
       "    </tr>\n",
       "    <tr>\n",
       "      <th>Lect_Age[T.4]</th>\n",
       "      <td>-0.167474</td>\n",
       "    </tr>\n",
       "    <tr>\n",
       "      <th>Lect_Age[T.5]</th>\n",
       "      <td>-0.154622</td>\n",
       "    </tr>\n",
       "    <tr>\n",
       "      <th>Lect_Age[T.6]</th>\n",
       "      <td>-0.230838</td>\n",
       "    </tr>\n",
       "    <tr>\n",
       "      <th>Service[T.1]</th>\n",
       "      <td>-0.094988</td>\n",
       "    </tr>\n",
       "  </tbody>\n",
       "</table>\n",
       "</div>"
      ],
      "text/plain": [
       "               Keras_GLMM\n",
       "Intercept        3.186542\n",
       "Stud_Age[T.4]    0.053660\n",
       "Stud_Age[T.6]    0.062380\n",
       "Stud_Age[T.8]    0.141339\n",
       "Lect_Age[T.2]   -0.067621\n",
       "Lect_Age[T.3]   -0.107238\n",
       "Lect_Age[T.4]   -0.167474\n",
       "Lect_Age[T.5]   -0.154622\n",
       "Lect_Age[T.6]   -0.230838\n",
       "Service[T.1]    -0.094988"
      ]
     },
     "execution_count": 85,
     "metadata": {},
     "output_type": "execute_result"
    }
   ],
   "source": [
    "fe_df"
   ]
  },
  {
   "cell_type": "markdown",
   "metadata": {},
   "source": [
    "Ta thấy rằng kết quả này rất gần với fixed effect của R với package lme4\n",
    "\n",
    "Còn đây là 4112 giá trị của random effects (tương ứng với mỗi hàng trong matrix Z)"
   ]
  },
  {
   "cell_type": "code",
   "execution_count": 86,
   "metadata": {},
   "outputs": [
    {
     "data": {
      "text/plain": [
       "0       0.023151\n",
       "1      -0.015272\n",
       "2       0.017752\n",
       "3       0.011739\n",
       "4      -0.008241\n",
       "          ...   \n",
       "4107   -0.113134\n",
       "4108    0.034460\n",
       "4109    0.157137\n",
       "4110    0.017055\n",
       "4111    0.145813\n",
       "Length: 4112, dtype: float32"
      ]
     },
     "execution_count": 86,
     "metadata": {},
     "output_type": "execute_result"
    }
   ],
   "source": [
    "re_df"
   ]
  },
  {
   "cell_type": "markdown",
   "metadata": {},
   "source": [
    "Trong python, ta có thể dựng GLMM bằng package statsmodel, tuy nhiên có giới hạn là chỉ chấp nhận 1 random effect duy nhất, ta không thể code các loại cross, nested random effects cho nhiều biến"
   ]
  },
  {
   "cell_type": "code",
   "execution_count": 87,
   "metadata": {},
   "outputs": [],
   "source": [
    "import statsmodels.formula.api as smf"
   ]
  },
  {
   "cell_type": "code",
   "execution_count": 89,
   "metadata": {},
   "outputs": [
    {
     "data": {
      "text/html": [
       "<table class=\"simpletable\">\n",
       "<tr>\n",
       "       <td>Model:</td>       <td>MixedLM</td> <td>Dependent Variable:</td>     <td>Score</td>   \n",
       "</tr>\n",
       "<tr>\n",
       "  <td>No. Observations:</td>  <td>73421</td>        <td>Method:</td>           <td>REML</td>    \n",
       "</tr>\n",
       "<tr>\n",
       "     <td>No. Groups:</td>     <td>2972</td>         <td>Scale:</td>           <td>1.6654</td>   \n",
       "</tr>\n",
       "<tr>\n",
       "  <td>Min. group size:</td>     <td>1</td>      <td>Log-Likelihood:</td>   <td>-124203.2237</td>\n",
       "</tr>\n",
       "<tr>\n",
       "  <td>Max. group size:</td>    <td>92</td>        <td>Converged:</td>           <td>Yes</td>    \n",
       "</tr>\n",
       "<tr>\n",
       "  <td>Mean group size:</td>   <td>24.7</td>            <td></td>                 <td></td>      \n",
       "</tr>\n",
       "</table>\n",
       "<table class=\"simpletable\">\n",
       "<tr>\n",
       "        <td></td>         <th>Coef.</th> <th>Std.Err.</th>    <th>z</th>    <th>P>|z|</th> <th>[0.025</th> <th>0.975]</th>\n",
       "</tr>\n",
       "<tr>\n",
       "  <th>Intercept</th>      <td>3.283</td>   <td>0.016</td>  <td>198.950</td> <td>0.000</td>  <td>3.250</td>  <td>3.315</td>\n",
       "</tr>\n",
       "<tr>\n",
       "  <th>Stud_Age[T.4]</th>  <td>0.074</td>   <td>0.022</td>   <td>3.288</td>  <td>0.001</td>  <td>0.030</td>  <td>0.118</td>\n",
       "</tr>\n",
       "<tr>\n",
       "  <th>Stud_Age[T.6]</th>  <td>0.093</td>   <td>0.022</td>   <td>4.179</td>  <td>0.000</td>  <td>0.050</td>  <td>0.137</td>\n",
       "</tr>\n",
       "<tr>\n",
       "  <th>Stud_Age[T.8]</th>  <td>0.175</td>   <td>0.024</td>   <td>7.340</td>  <td>0.000</td>  <td>0.128</td>  <td>0.222</td>\n",
       "</tr>\n",
       "<tr>\n",
       "  <th>Lect_Age[T.2]</th> <td>-0.087</td>   <td>0.014</td>  <td>-6.214</td>  <td>0.000</td> <td>-0.114</td> <td>-0.059</td>\n",
       "</tr>\n",
       "<tr>\n",
       "  <th>Lect_Age[T.3]</th> <td>-0.150</td>   <td>0.017</td>  <td>-9.009</td>  <td>0.000</td> <td>-0.182</td> <td>-0.117</td>\n",
       "</tr>\n",
       "<tr>\n",
       "  <th>Lect_Age[T.4]</th> <td>-0.198</td>   <td>0.018</td>  <td>-11.065</td> <td>0.000</td> <td>-0.233</td> <td>-0.163</td>\n",
       "</tr>\n",
       "<tr>\n",
       "  <th>Lect_Age[T.5]</th> <td>-0.188</td>   <td>0.021</td>  <td>-9.159</td>  <td>0.000</td> <td>-0.229</td> <td>-0.148</td>\n",
       "</tr>\n",
       "<tr>\n",
       "  <th>Lect_Age[T.6]</th> <td>-0.288</td>   <td>0.018</td>  <td>-15.992</td> <td>0.000</td> <td>-0.323</td> <td>-0.253</td>\n",
       "</tr>\n",
       "<tr>\n",
       "  <th>Service[T.1]</th>  <td>-0.092</td>   <td>0.010</td>  <td>-9.017</td>  <td>0.000</td> <td>-0.112</td> <td>-0.072</td>\n",
       "</tr>\n",
       "<tr>\n",
       "  <th>Group Var</th>      <td>0.101</td>   <td>0.004</td>     <td></td>       <td></td>       <td></td>       <td></td>   \n",
       "</tr>\n",
       "</table>"
      ],
      "text/plain": [
       "<class 'statsmodels.iolib.summary2.Summary'>\n",
       "\"\"\"\n",
       "          Mixed Linear Model Regression Results\n",
       "==========================================================\n",
       "Model:            MixedLM Dependent Variable: Score       \n",
       "No. Observations: 73421   Method:             REML        \n",
       "No. Groups:       2972    Scale:              1.6654      \n",
       "Min. group size:  1       Log-Likelihood:     -124203.2237\n",
       "Max. group size:  92      Converged:          Yes         \n",
       "Mean group size:  24.7                                    \n",
       "----------------------------------------------------------\n",
       "               Coef.  Std.Err.    z    P>|z| [0.025 0.975]\n",
       "----------------------------------------------------------\n",
       "Intercept       3.283    0.016 198.950 0.000  3.250  3.315\n",
       "Stud_Age[T.4]   0.074    0.022   3.288 0.001  0.030  0.118\n",
       "Stud_Age[T.6]   0.093    0.022   4.179 0.000  0.050  0.137\n",
       "Stud_Age[T.8]   0.175    0.024   7.340 0.000  0.128  0.222\n",
       "Lect_Age[T.2]  -0.087    0.014  -6.214 0.000 -0.114 -0.059\n",
       "Lect_Age[T.3]  -0.150    0.017  -9.009 0.000 -0.182 -0.117\n",
       "Lect_Age[T.4]  -0.198    0.018 -11.065 0.000 -0.233 -0.163\n",
       "Lect_Age[T.5]  -0.188    0.021  -9.159 0.000 -0.229 -0.148\n",
       "Lect_Age[T.6]  -0.288    0.018 -15.992 0.000 -0.323 -0.253\n",
       "Service[T.1]   -0.092    0.010  -9.017 0.000 -0.112 -0.072\n",
       "Group Var       0.101    0.004                            \n",
       "==========================================================\n",
       "\n",
       "\"\"\""
      ]
     },
     "execution_count": 89,
     "metadata": {},
     "output_type": "execute_result"
    }
   ],
   "source": [
    "formula = \"Score ~ Stud_Age + Lect_Age + Service\"\n",
    "\n",
    "md = smf.mixedlm(formula, df, groups=df[\"Student\"])\n",
    "\n",
    "mdf = md.fit()\n",
    "\n",
    "mdf.summary()"
   ]
  },
  {
   "cell_type": "markdown",
   "metadata": {},
   "source": [
    "Ta có thể so sánh nội dung fixed effect betas của 2 mô hình Neural network Keras và GLMM của statsmodel, chúng tương tự nhau:"
   ]
  },
  {
   "cell_type": "code",
   "execution_count": 90,
   "metadata": {},
   "outputs": [
    {
     "data": {
      "text/html": [
       "<div>\n",
       "<style scoped>\n",
       "    .dataframe tbody tr th:only-of-type {\n",
       "        vertical-align: middle;\n",
       "    }\n",
       "\n",
       "    .dataframe tbody tr th {\n",
       "        vertical-align: top;\n",
       "    }\n",
       "\n",
       "    .dataframe thead th {\n",
       "        text-align: right;\n",
       "    }\n",
       "</style>\n",
       "<table border=\"1\" class=\"dataframe\">\n",
       "  <thead>\n",
       "    <tr style=\"text-align: right;\">\n",
       "      <th></th>\n",
       "      <th>Keras_GLMM</th>\n",
       "      <th>GLMM</th>\n",
       "    </tr>\n",
       "  </thead>\n",
       "  <tbody>\n",
       "    <tr>\n",
       "      <th>Intercept</th>\n",
       "      <td>3.186542</td>\n",
       "      <td>3.282506</td>\n",
       "    </tr>\n",
       "    <tr>\n",
       "      <th>Stud_Age[T.4]</th>\n",
       "      <td>0.053660</td>\n",
       "      <td>0.073679</td>\n",
       "    </tr>\n",
       "    <tr>\n",
       "      <th>Stud_Age[T.6]</th>\n",
       "      <td>0.062380</td>\n",
       "      <td>0.093308</td>\n",
       "    </tr>\n",
       "    <tr>\n",
       "      <th>Stud_Age[T.8]</th>\n",
       "      <td>0.141339</td>\n",
       "      <td>0.175263</td>\n",
       "    </tr>\n",
       "    <tr>\n",
       "      <th>Lect_Age[T.2]</th>\n",
       "      <td>-0.067621</td>\n",
       "      <td>-0.086601</td>\n",
       "    </tr>\n",
       "    <tr>\n",
       "      <th>Lect_Age[T.3]</th>\n",
       "      <td>-0.107238</td>\n",
       "      <td>-0.149557</td>\n",
       "    </tr>\n",
       "    <tr>\n",
       "      <th>Lect_Age[T.4]</th>\n",
       "      <td>-0.167474</td>\n",
       "      <td>-0.198324</td>\n",
       "    </tr>\n",
       "    <tr>\n",
       "      <th>Lect_Age[T.5]</th>\n",
       "      <td>-0.154622</td>\n",
       "      <td>-0.188271</td>\n",
       "    </tr>\n",
       "    <tr>\n",
       "      <th>Lect_Age[T.6]</th>\n",
       "      <td>-0.230838</td>\n",
       "      <td>-0.287835</td>\n",
       "    </tr>\n",
       "    <tr>\n",
       "      <th>Service[T.1]</th>\n",
       "      <td>-0.094988</td>\n",
       "      <td>-0.091856</td>\n",
       "    </tr>\n",
       "  </tbody>\n",
       "</table>\n",
       "</div>"
      ],
      "text/plain": [
       "               Keras_GLMM      GLMM\n",
       "Intercept        3.186542  3.282506\n",
       "Stud_Age[T.4]    0.053660  0.073679\n",
       "Stud_Age[T.6]    0.062380  0.093308\n",
       "Stud_Age[T.8]    0.141339  0.175263\n",
       "Lect_Age[T.2]   -0.067621 -0.086601\n",
       "Lect_Age[T.3]   -0.107238 -0.149557\n",
       "Lect_Age[T.4]   -0.167474 -0.198324\n",
       "Lect_Age[T.5]   -0.154622 -0.188271\n",
       "Lect_Age[T.6]   -0.230838 -0.287835\n",
       "Service[T.1]    -0.094988 -0.091856"
      ]
     },
     "execution_count": 90,
     "metadata": {},
     "output_type": "execute_result"
    }
   ],
   "source": [
    "fe_df['GLMM'] = mdf.fe_params\n",
    "\n",
    "fe_df"
   ]
  },
  {
   "cell_type": "markdown",
   "metadata": {},
   "source": [
    "Bài thực hành đến đây là hết, xin tạm biệt và hẹn gặp lại :)"
   ]
  },
  {
   "cell_type": "code",
   "execution_count": null,
   "metadata": {},
   "outputs": [],
   "source": []
  }
 ],
 "metadata": {
  "hide_input": false,
  "kernelspec": {
   "display_name": "Python 3",
   "language": "python",
   "name": "python3"
  },
  "language_info": {
   "codemirror_mode": {
    "name": "ipython",
    "version": 3
   },
   "file_extension": ".py",
   "mimetype": "text/x-python",
   "name": "python",
   "nbconvert_exporter": "python",
   "pygments_lexer": "ipython3",
   "version": "3.7.4"
  },
  "toc": {
   "base_numbering": 1,
   "nav_menu": {},
   "number_sections": true,
   "sideBar": true,
   "skip_h1_title": false,
   "title_cell": "Table of Contents",
   "title_sidebar": "Contents",
   "toc_cell": false,
   "toc_position": {},
   "toc_section_display": true,
   "toc_window_display": false
  }
 },
 "nbformat": 4,
 "nbformat_minor": 2
}
