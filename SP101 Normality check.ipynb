{
 "cells": [
  {
   "cell_type": "markdown",
   "metadata": {},
   "source": [
    "# Lập trình thống kê cơ bản trong Python\n",
    "# Bài 6: Kiểm tra giả định về phân bố chuẩn\n",
    "\n",
    "### BS. Lê Ngọc Khả Nhi\n",
    "\n",
    "# Giới thiệu\n",
    "\n",
    "Đây là bài thứ 6 trong series về lập trình thống kê cơ bản sử dụng ngôn ngữ Python. Trong bài hôm nay Nhi sẽ hướng dẫn các bạn viết code tạo ra 1 class với công dụng kiểm tra giả định phân bố chuẩn của 1 biến ngẫu nhiên bằng nhiều phương pháp khác nhau. \n",
    "\n",
    "Mặc dù tính chất phân bố chuẩn không mấy hữu dụng trên thực tế, nhưng đây là 1 giả định mang tính chất kỹ thuật và bắt buộc với nhiều kiểm định thống kê cổ điển, vốn vẫn đang được dùng trong nghiên cứu y học, do đó ta cần kiểm tra giả định này trước khi suy luận thống kê. \n",
    " \n",
    "Mục tiêu của chúng ta là kiểm tra xem biến số đang được khảo sát có phân bố tương tự như Gaussian (phân bố bình thường, chuẩn) hay không ? \n",
    "\n",
    "Có nhiều cách để kiểm tra giả định này, bao gồm:\n",
    "\n",
    "1. Trực quan: Histogram, Kernel density plot (đồ thị hàm PDF), biểu đồ QQ\n",
    "\n",
    "2. Đọc kết quả thống kê mô tả: Skewness, kurtosis, các bách phân vị\n",
    "\n",
    "2. Phản nghiệm: dùng các loại kiểm định như Shapiro-Wilk, Kolmogorov-Smirnov, D'Agostino, Anderson_Darling ...\n",
    "\n",
    "Trong bài này chúng ta sẽ dùng Python OOP để tạo ra 1 class dữ liệu Normality_check, trong đó hỗ trợ 6 methods để thực hiện kiểm tra giả định phân bố chuẩn. Các method này chủ yếu dựa trên packages scipy.stats (3 loại kiểm định, skewness, kurtosis), statsmodels (QQplot), seaborn (đồ họa) và pandas (mô tả)"
   ]
  },
  {
   "cell_type": "code",
   "execution_count": 2,
   "metadata": {},
   "outputs": [],
   "source": [
    "# Tài các thư viện cần thiết\n",
    "\n",
    "import pandas as pd\n",
    "import numpy as np\n",
    "\n",
    "from statsmodels.graphics.gofplots import qqplot\n",
    "from scipy.stats import shapiro, normaltest, anderson, kstest, skew, kurtosis\n",
    "import seaborn as sns"
   ]
  },
  {
   "cell_type": "markdown",
   "metadata": {},
   "source": [
    "# class Normality_check\n",
    "\n",
    "Nhi viết code để xây dựng class Normality_check. Nội dung của nó rất đơn giản, hàm init khởi tạo object với thuộc tính x là series dữ liệu, sau khi có object này ta có thể dùng 6 methods: \n",
    "\n",
    "1) describe : thống kê mô tả, xuất ra mean, sd, nhiều percentiles, skewness và kurtosis\n",
    "\n",
    "2) QQ_plot: vẽ biểu đồ QQplot\n",
    "\n",
    "3) Dist_plot: vẽ histogram, KDE plot\n",
    "\n",
    "4-6) 3 loại kiểm định: Shapiro_Wilk, D'Agostino và Anderson-Darling"
   ]
  },
  {
   "cell_type": "code",
   "execution_count": 3,
   "metadata": {},
   "outputs": [],
   "source": [
    "class Normality_check:\n",
    "    '''Class kiểm tra giả định phân bố chuẩn của 1 biến X\n",
    "    @ Args: x = pandas series\n",
    "    '''\n",
    "    \n",
    "    def __init__(self, x):\n",
    "        self.x = x\n",
    "        \n",
    "    def describe(self, percentiles = [0.25,0.5,0.75]):\n",
    "        '''Thống kê mô tả\n",
    "        @ Argument: percentiles(list,float)\n",
    "        @ Output: pandas series gồm size, mean, sd, các percentiles, skewness, kurtosis\n",
    "        '''\n",
    "        o = self.x.describe(percentiles = percentiles)\n",
    "        sk = pd.Series([skew(self.x), kurtosis(self.x)], index = ['Skew','Kurto'])\n",
    "        \n",
    "        return o.append(sk)\n",
    "    \n",
    "    def QQ_plot(self):\n",
    "        '''Vẽ biểu đồ QQplot\n",
    "        '''\n",
    "        qqplot(self.x, line='s')\n",
    "        \n",
    "    def Dist_plot(self, kde = True, rug = True):\n",
    "        '''Vẽ histogram và KDE plot\n",
    "        '''\n",
    "        sns.distplot(self.x, \n",
    "                     kde = kde, \n",
    "                     rug = rug, \n",
    "                     hist_kws = {'color': 'red'},\n",
    "                     kde_kws = {'color': 'red'},\n",
    "                     rug_kws = {'color': 'darkred'}\n",
    "                    )\n",
    "        \n",
    "    def Shapiro_Wilk(self, alpha = 0.05):\n",
    "        '''Kiểm định Shapiro_Wilk\n",
    "        @ arguments: alpha = 0.05\n",
    "        '''\n",
    "        stat, p = shapiro(self.x)\n",
    "        shapiro_int = 'Không thể phủ định H0, phân bố gần với Gaussian' if p > alpha \\\n",
    "        else 'Phủ định H0, phân bố không phải Gaussian'\n",
    "        print(f'Kết quả kiểm định Shapiro-Wilk: stat={stat}, p={p}')\n",
    "        print(shapiro_int)\n",
    "        \n",
    "    def DAgostino(self, alpha = 0.05):\n",
    "        '''Kiểm định D'Agostino\n",
    "        @ argument: \n",
    "        alpha = 0.05\n",
    "        '''\n",
    "        stat, p = normaltest(self.x)\n",
    "        \n",
    "        agos_int = 'Không thể phủ định H0, phân bố gần với Gaussian' if p > alpha \\\n",
    "        else 'Phủ định H0, phân bố không phải Gaussian'\n",
    "        print(f'Kết quả kiểm định D\\'Agostino: K2={stat}, p={p}')\n",
    "        print(agos_int)\n",
    "        \n",
    "    def Anderson_Darling(self):\n",
    "        '''Kiểm định Anderson Darling\n",
    "        '''\n",
    "        out = anderson(self.x, dist='norm')\n",
    "        \n",
    "        H0 = []\n",
    "\n",
    "        for i in range(len(out.critical_values)):\n",
    "            H0.append('No' if out.statistic < out.critical_values[i] else 'Yes')\n",
    "        \n",
    "        print(f'Kết quả kiểm định Anderson Darling: stat = {out.statistic}')\n",
    "        \n",
    "        return pd.DataFrame({'Critical_vals':  out.critical_values,\n",
    "                             'Critical_levels': [str(int(sl))+'%' for sl in out.significance_level],\n",
    "                             'H0 Rejected': H0,\n",
    "                            })"
   ]
  },
  {
   "cell_type": "markdown",
   "metadata": {},
   "source": [
    "# Sử dụng Normality_check\n",
    "\n",
    "Ta chuẩn bị 2 biến X1 có phân bố Gaussian và X2 có phân bố Gamma"
   ]
  },
  {
   "cell_type": "code",
   "execution_count": 4,
   "metadata": {},
   "outputs": [],
   "source": [
    "x1 = pd.Series(3 * np.random.randn(100) + 10, name = 'Normal_X')"
   ]
  },
  {
   "cell_type": "code",
   "execution_count": 5,
   "metadata": {},
   "outputs": [],
   "source": [
    "x2 = pd.Series(np.random.gamma(1,0.5,size = 100), name = 'Gamma_X')"
   ]
  },
  {
   "cell_type": "markdown",
   "metadata": {},
   "source": [
    "Áp dụng class Normality_check cho x1, x2 ta sẽ có 2 object s1, s2"
   ]
  },
  {
   "cell_type": "code",
   "execution_count": 6,
   "metadata": {},
   "outputs": [],
   "source": [
    "s1= Normality_check(x1)\n",
    "s2= Normality_check(x2)"
   ]
  },
  {
   "cell_type": "code",
   "execution_count": 9,
   "metadata": {},
   "outputs": [
    {
     "name": "stdout",
     "output_type": "stream",
     "text": [
      "Help on class Normality_check in module __main__:\n",
      "\n",
      "class Normality_check(builtins.object)\n",
      " |  Normality_check(x)\n",
      " |  \n",
      " |  Class kiểm tra giả định phân bố chuẩn của 1 biến X\n",
      " |  @ Args: x = pandas series\n",
      " |  \n",
      " |  Methods defined here:\n",
      " |  \n",
      " |  Anderson_Darling(self)\n",
      " |      Kiểm định Anderson Darling\n",
      " |  \n",
      " |  DAgostino(self, alpha=0.05)\n",
      " |      Kiểm định D'Agostino\n",
      " |      @ argument: \n",
      " |      alpha = 0.05\n",
      " |  \n",
      " |  Dist_plot(self, kde=True, rug=True)\n",
      " |      Vẽ histogram và KDE plot\n",
      " |  \n",
      " |  QQ_plot(self)\n",
      " |      Vẽ biểu đồ QQplot\n",
      " |  \n",
      " |  Shapiro_Wilk(self, alpha=0.05)\n",
      " |      Kiểm định Shapiro_Wilk\n",
      " |      @ arguments: alpha = 0.05\n",
      " |  \n",
      " |  __init__(self, x)\n",
      " |      Initialize self.  See help(type(self)) for accurate signature.\n",
      " |  \n",
      " |  describe(self, percentiles=[0.25, 0.5, 0.75])\n",
      " |      Thống kê mô tả\n",
      " |      @ Argument: percentiles(list,float)\n",
      " |      @ Output: pandas series gồm size, mean, sd, các percentiles, skewness, kurtosis\n",
      " |  \n",
      " |  ----------------------------------------------------------------------\n",
      " |  Data descriptors defined here:\n",
      " |  \n",
      " |  __dict__\n",
      " |      dictionary for instance variables (if defined)\n",
      " |  \n",
      " |  __weakref__\n",
      " |      list of weak references to the object (if defined)\n",
      "\n"
     ]
    }
   ],
   "source": [
    "help(Normality_check)"
   ]
  },
  {
   "cell_type": "code",
   "execution_count": 10,
   "metadata": {},
   "outputs": [
    {
     "data": {
      "text/plain": [
       "0      8.917347\n",
       "1      9.500742\n",
       "2      5.973302\n",
       "3     10.040272\n",
       "4     13.800424\n",
       "        ...    \n",
       "95    12.284291\n",
       "96    16.485792\n",
       "97     7.066268\n",
       "98    15.615226\n",
       "99     4.445316\n",
       "Name: Normal_X, Length: 100, dtype: float64"
      ]
     },
     "execution_count": 10,
     "metadata": {},
     "output_type": "execute_result"
    }
   ],
   "source": [
    "s1.x"
   ]
  },
  {
   "cell_type": "code",
   "execution_count": 11,
   "metadata": {},
   "outputs": [
    {
     "data": {
      "text/plain": [
       "count    100.000000\n",
       "mean       9.486094\n",
       "std        3.038795\n",
       "min        2.571722\n",
       "25%        7.282837\n",
       "50%        9.479760\n",
       "75%       11.630816\n",
       "max       16.485792\n",
       "Skew       0.020595\n",
       "Kurto     -0.457680\n",
       "dtype: float64"
      ]
     },
     "execution_count": 11,
     "metadata": {},
     "output_type": "execute_result"
    }
   ],
   "source": [
    "s1.describe()"
   ]
  },
  {
   "cell_type": "code",
   "execution_count": 12,
   "metadata": {},
   "outputs": [
    {
     "data": {
      "image/png": "[encoded data removed]",
      "text/plain": [
       "<Figure size 432x288 with 1 Axes>"
      ]
     },
     "metadata": {
      "needs_background": "light"
     },
     "output_type": "display_data"
    }
   ],
   "source": [
    "s1.Dist_plot()"
   ]
  },
  {
   "cell_type": "code",
   "execution_count": 13,
   "metadata": {},
   "outputs": [
    {
     "data": {
      "image/png": "[encoded data removed]",
      "text/plain": [
       "<Figure size 432x288 with 1 Axes>"
      ]
     },
     "metadata": {
      "needs_background": "light"
     },
     "output_type": "display_data"
    }
   ],
   "source": [
    "s1.QQ_plot()"
   ]
  },
  {
   "cell_type": "code",
   "execution_count": 14,
   "metadata": {},
   "outputs": [
    {
     "name": "stdout",
     "output_type": "stream",
     "text": [
      "Kết quả kiểm định Anderson Darling: stat = 0.21111640357187866\n"
     ]
    },
    {
     "data": {
      "text/html": [
       "<div>\n",
       "<style scoped>\n",
       "    .dataframe tbody tr th:only-of-type {\n",
       "        vertical-align: middle;\n",
       "    }\n",
       "\n",
       "    .dataframe tbody tr th {\n",
       "        vertical-align: top;\n",
       "    }\n",
       "\n",
       "    .dataframe thead th {\n",
       "        text-align: right;\n",
       "    }\n",
       "</style>\n",
       "<table border=\"1\" class=\"dataframe\">\n",
       "  <thead>\n",
       "    <tr style=\"text-align: right;\">\n",
       "      <th></th>\n",
       "      <th>Critical_vals</th>\n",
       "      <th>Critical_levels</th>\n",
       "      <th>H0 Rejected</th>\n",
       "    </tr>\n",
       "  </thead>\n",
       "  <tbody>\n",
       "    <tr>\n",
       "      <th>0</th>\n",
       "      <td>0.555</td>\n",
       "      <td>15%</td>\n",
       "      <td>No</td>\n",
       "    </tr>\n",
       "    <tr>\n",
       "      <th>1</th>\n",
       "      <td>0.632</td>\n",
       "      <td>10%</td>\n",
       "      <td>No</td>\n",
       "    </tr>\n",
       "    <tr>\n",
       "      <th>2</th>\n",
       "      <td>0.759</td>\n",
       "      <td>5%</td>\n",
       "      <td>No</td>\n",
       "    </tr>\n",
       "    <tr>\n",
       "      <th>3</th>\n",
       "      <td>0.885</td>\n",
       "      <td>2%</td>\n",
       "      <td>No</td>\n",
       "    </tr>\n",
       "    <tr>\n",
       "      <th>4</th>\n",
       "      <td>1.053</td>\n",
       "      <td>1%</td>\n",
       "      <td>No</td>\n",
       "    </tr>\n",
       "  </tbody>\n",
       "</table>\n",
       "</div>"
      ],
      "text/plain": [
       "   Critical_vals Critical_levels H0 Rejected\n",
       "0          0.555             15%          No\n",
       "1          0.632             10%          No\n",
       "2          0.759              5%          No\n",
       "3          0.885              2%          No\n",
       "4          1.053              1%          No"
      ]
     },
     "execution_count": 14,
     "metadata": {},
     "output_type": "execute_result"
    }
   ],
   "source": [
    "s1.Anderson_Darling()"
   ]
  },
  {
   "cell_type": "code",
   "execution_count": 15,
   "metadata": {},
   "outputs": [
    {
     "name": "stdout",
     "output_type": "stream",
     "text": [
      "Kết quả kiểm định D'Agostino: K2=0.8816606900614632, p=0.6435018706026656\n",
      "Không thể phủ định H0, phân bố gần với Gaussian\n"
     ]
    }
   ],
   "source": [
    "s1.DAgostino()"
   ]
  },
  {
   "cell_type": "code",
   "execution_count": 16,
   "metadata": {},
   "outputs": [
    {
     "name": "stdout",
     "output_type": "stream",
     "text": [
      "Kết quả kiểm định Shapiro-Wilk: stat=0.9911949038505554, p=0.7603190541267395\n",
      "Không thể phủ định H0, phân bố gần với Gaussian\n"
     ]
    }
   ],
   "source": [
    "s1.Shapiro_Wilk()"
   ]
  },
  {
   "cell_type": "code",
   "execution_count": 18,
   "metadata": {},
   "outputs": [
    {
     "data": {
      "text/plain": [
       "count    100.000000\n",
       "mean       0.457474\n",
       "std        0.482454\n",
       "min        0.001719\n",
       "25%        0.116374\n",
       "50%        0.309712\n",
       "75%        0.680853\n",
       "max        2.776642\n",
       "Skew       1.859381\n",
       "Kurto      4.572454\n",
       "dtype: float64"
      ]
     },
     "execution_count": 18,
     "metadata": {},
     "output_type": "execute_result"
    }
   ],
   "source": [
    "s2.describe()"
   ]
  },
  {
   "cell_type": "code",
   "execution_count": 19,
   "metadata": {},
   "outputs": [
    {
     "data": {
      "image/png": "[encoded data removed]",
      "text/plain": [
       "<Figure size 432x288 with 1 Axes>"
      ]
     },
     "metadata": {
      "needs_background": "light"
     },
     "output_type": "display_data"
    }
   ],
   "source": [
    "s2.QQ_plot()"
   ]
  },
  {
   "cell_type": "code",
   "execution_count": 20,
   "metadata": {},
   "outputs": [
    {
     "data": {
      "image/png": "[encoded data removed]",
      "text/plain": [
       "<Figure size 432x288 with 1 Axes>"
      ]
     },
     "metadata": {
      "needs_background": "light"
     },
     "output_type": "display_data"
    }
   ],
   "source": [
    "s2.Dist_plot()"
   ]
  },
  {
   "cell_type": "code",
   "execution_count": 21,
   "metadata": {},
   "outputs": [
    {
     "name": "stdout",
     "output_type": "stream",
     "text": [
      "Kết quả kiểm định Anderson Darling: stat = 5.120168479261139\n"
     ]
    },
    {
     "data": {
      "text/html": [
       "<div>\n",
       "<style scoped>\n",
       "    .dataframe tbody tr th:only-of-type {\n",
       "        vertical-align: middle;\n",
       "    }\n",
       "\n",
       "    .dataframe tbody tr th {\n",
       "        vertical-align: top;\n",
       "    }\n",
       "\n",
       "    .dataframe thead th {\n",
       "        text-align: right;\n",
       "    }\n",
       "</style>\n",
       "<table border=\"1\" class=\"dataframe\">\n",
       "  <thead>\n",
       "    <tr style=\"text-align: right;\">\n",
       "      <th></th>\n",
       "      <th>Critical_vals</th>\n",
       "      <th>Critical_levels</th>\n",
       "      <th>H0 Rejected</th>\n",
       "    </tr>\n",
       "  </thead>\n",
       "  <tbody>\n",
       "    <tr>\n",
       "      <th>0</th>\n",
       "      <td>0.555</td>\n",
       "      <td>15%</td>\n",
       "      <td>Yes</td>\n",
       "    </tr>\n",
       "    <tr>\n",
       "      <th>1</th>\n",
       "      <td>0.632</td>\n",
       "      <td>10%</td>\n",
       "      <td>Yes</td>\n",
       "    </tr>\n",
       "    <tr>\n",
       "      <th>2</th>\n",
       "      <td>0.759</td>\n",
       "      <td>5%</td>\n",
       "      <td>Yes</td>\n",
       "    </tr>\n",
       "    <tr>\n",
       "      <th>3</th>\n",
       "      <td>0.885</td>\n",
       "      <td>2%</td>\n",
       "      <td>Yes</td>\n",
       "    </tr>\n",
       "    <tr>\n",
       "      <th>4</th>\n",
       "      <td>1.053</td>\n",
       "      <td>1%</td>\n",
       "      <td>Yes</td>\n",
       "    </tr>\n",
       "  </tbody>\n",
       "</table>\n",
       "</div>"
      ],
      "text/plain": [
       "   Critical_vals Critical_levels H0 Rejected\n",
       "0          0.555             15%         Yes\n",
       "1          0.632             10%         Yes\n",
       "2          0.759              5%         Yes\n",
       "3          0.885              2%         Yes\n",
       "4          1.053              1%         Yes"
      ]
     },
     "execution_count": 21,
     "metadata": {},
     "output_type": "execute_result"
    }
   ],
   "source": [
    "s2.Anderson_Darling()"
   ]
  },
  {
   "cell_type": "code",
   "execution_count": 22,
   "metadata": {},
   "outputs": [
    {
     "name": "stdout",
     "output_type": "stream",
     "text": [
      "Kết quả kiểm định D'Agostino: K2=50.86106525221174, p=9.02942320363825e-12\n",
      "Phủ định H0, phân bố không phải Gaussian\n"
     ]
    }
   ],
   "source": [
    "s2.DAgostino()"
   ]
  },
  {
   "cell_type": "code",
   "execution_count": 23,
   "metadata": {},
   "outputs": [
    {
     "name": "stdout",
     "output_type": "stream",
     "text": [
      "Kết quả kiểm định Shapiro-Wilk: stat=0.8138601779937744, p=6.751393888393409e-10\n",
      "Phủ định H0, phân bố không phải Gaussian\n"
     ]
    }
   ],
   "source": [
    "s2.Shapiro_Wilk()"
   ]
  },
  {
   "cell_type": "markdown",
   "metadata": {},
   "source": [
    "Bài thực hành đến đây là hết, như các bạn thấy, Python OOP không quá khó khăn. Với một chút kỹ năng viết code cho function, class và sử dụng các thư viện có sẵn, ta có thể tạo ra những công cụ giản dị, hữu ích cho các công đoạn phân tích thống kê thường quy. \n",
    "\n",
    "Chúc các bạn thành công và hẹn gặp lại."
   ]
  }
 ],
 "metadata": {
  "hide_input": false,
  "kernelspec": {
   "display_name": "Python 3",
   "language": "python",
   "name": "python3"
  },
  "language_info": {
   "codemirror_mode": {
    "name": "ipython",
    "version": 3
   },
   "file_extension": ".py",
   "mimetype": "text/x-python",
   "name": "python",
   "nbconvert_exporter": "python",
   "pygments_lexer": "ipython3",
   "version": "3.7.4"
  },
  "toc": {
   "base_numbering": 1,
   "nav_menu": {},
   "number_sections": true,
   "sideBar": true,
   "skip_h1_title": false,
   "title_cell": "Table of Contents",
   "title_sidebar": "Contents",
   "toc_cell": false,
   "toc_position": {},
   "toc_section_display": true,
   "toc_window_display": false
  }
 },
 "nbformat": 4,
 "nbformat_minor": 2
}
