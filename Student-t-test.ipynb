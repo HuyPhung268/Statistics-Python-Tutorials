{
 "cells": [
  {
   "cell_type": "markdown",
   "metadata": {},
   "source": [
    "# Lập trình thống kê cơ bản với Python\n",
    "# Bài 7: Tự code thủ công kiểm định t cho 2 mẫu độc lập\n",
    "\n",
    "### BS. Lê Ngọc Khả Nhi\n",
    "\n",
    "# Nhập đề:\n",
    "\n",
    "Kiểm định t được William Sealy Gosset thiết kế vào năm 1908 dưới bút danh là Student, công dụng của nó để so sánh giá trị trung bình giữa 2 phân nhóm độc lập dựa vào một phản nghiệm trên trị số thống kê đại diện tên là t. \n",
    "\n",
    "Trong bài này, Nhi hướng dẫn các bạn code thủ công một kiểm định t bằng Python hướng đối tượng (OOP).\n",
    "\n",
    "Mục tiêu của chúng ta là tạo ra 1 class cho phép thực hiện kiểm định t để so sánh biến kết quả Y giữa 2 phân nhóm G1,G2. Class này nhận dữ liệu đầu vào là 1 dataframe, công thức có nội dung 'Y ~ G' và ngưỡng alpha; nếu G có 2 giá trị, sẽ thực hiện kiểm định t so sánh trung bình Y(G1) và Y(G2). Kết quả xuất ra bao gồm t statistics, độ tự do, giá trị p, kết luận phủ định hay không giả thuyết H0, và 3 trị số effect size gồm Rosenthal's r, Hedge's G và Cohen's d.\n",
    "\n",
    "# Tạo class Ind_samples_t"
   ]
  },
  {
   "cell_type": "code",
   "execution_count": 1,
   "metadata": {},
   "outputs": [],
   "source": [
    "class Ind_samples_t():\n",
    "    '''Class kiểm định t cho 2 mẫu độc lập\n",
    "    @ Input: \n",
    "    data : pandas dataframe\n",
    "    form = công thức dạng 'Y~X'\n",
    "    Chú ý: nếu X có nhiều hơn 2 bậc, chỉ xét 2 bậc đầu tiên\n",
    "    alpha = ngưỡng ý nghĩa, mặc định = 0.05\n",
    "    @ Output:\n",
    "    1 bảng tóm tắt kết quả\n",
    "    2 hình vẽ\n",
    "    \n",
    "    '''\n",
    "    def __init__(self, data, form, alpha = 0.05):\n",
    "        \n",
    "        # Khởi tạo class\n",
    "        self.data = data\n",
    "        self.form = form\n",
    "        self.alpha = alpha\n",
    "        \n",
    "        # Tạo design matrix bằng patsy\n",
    "        Y, X = dmatrices(self.form + '-1', \n",
    "                 data=self.data,\n",
    "                 return_type='dataframe')\n",
    "        \n",
    "        if X.shape[1] > 2:\n",
    "            print('Biến phân nhóm có nhiều hơn 2 bậc giá trị\\ntest được thực hiện trên 2 bậc đầu tiên')\n",
    "        \n",
    "        y1, y2 = Y[X.iloc[:,0]== 1].values.flatten(), \\\n",
    "                     Y[X.iloc[:,1]== 1].values.flatten()\n",
    "        \n",
    "        # Tính t \n",
    "        mu_1, mu_2 = y1.mean(), y2.mean()\n",
    "        n1, n2 = len(y1), len(y2)\n",
    "        std1, std2 = np.std(y1, ddof=1), np.std(y2, ddof=1)\n",
    "        se1, se2 = std1/sqrt(n1), std2/sqrt(n2)\n",
    "        sed = sqrt(se1**2.0 + se2**2.0)\n",
    "        t_stat = (mu_2 - mu_1) / sed\n",
    "\n",
    "        df = n1 + n2 - 2\n",
    "        \n",
    "        # Tính p value\n",
    "        p = (1 - t.cdf(abs(t_stat), df)) * 2\n",
    "        \n",
    "        # Tính effect-size\n",
    "        r = sqrt(t_stat**2 / (t_stat**2 + df))\n",
    "        d1 = np.abs(mu_1 - mu_2)/np.std(y1, ddof=1)\n",
    "        d2 = np.abs(mu_2 - mu_1)/np.std(y2, ddof=1)\n",
    "        g1= d1*(1- (3/(4*(n1+n2)-9)))\n",
    "        g2= d2*(1- (3/(4*(n1+n2)-9)))\n",
    "        \n",
    "        # Giải nghĩa kết quả\n",
    "        h0 = 'Có' if p < self.alpha else 'Không'\n",
    "        \n",
    "        # Đóng gói kết quả\n",
    "        self._ttest = {'Y':(y1,y2), \n",
    "                           'X':(X.columns[0], X.columns[1]),\n",
    "                          'Mean':(mu_1, mu_2),\n",
    "                           'n':(n1,n2),\n",
    "                           'std':(std1,std2),\n",
    "                           'se':(se1,se2),\n",
    "                           'sed':sed,\n",
    "                           't_stat':t_stat,\n",
    "                           'dof':df,\n",
    "                           'p':p,\n",
    "                           'cohen':(d1,d2),\n",
    "                           'r':r,\n",
    "                           'g':(g1,g2),\n",
    "                           'h0': h0,\n",
    "                          }                    \n",
    "\n",
    "    def summary(self):\n",
    "        '''\n",
    "        Hàm tạo bảng kết quả và vẽ hình\n",
    "        '''\n",
    "        # Tạo bảng kết quả\n",
    "        \n",
    "        out = pd.DataFrame({'Nhóm': self._ttest['X'],\n",
    "                  'Cỡ mẫu': self._ttest['n'],\n",
    "                  'Trung bình': self._ttest['Mean'],\n",
    "                  'Giá trị t': (self._ttest['t_stat'],' '),\n",
    "                  'Độ tự do': (self._ttest['dof'],' '),\n",
    "                  'Giá trị p': (self._ttest['p'],' '),\n",
    "                  'Kích thước hiệu ứng': ['','',],\n",
    "                  'Rosenthal\\'s r': (self._ttest['r'],' '),\n",
    "                  'Cohen\\'s d': self._ttest['cohen'],\n",
    "                  'Hedge\\'s G': self._ttest['g'],\n",
    "                  'Phủ nhận H0': (self._ttest['h0'],' '),\n",
    "                 })\n",
    "\n",
    "        out.index = [''] * len(out.index)\n",
    "        \n",
    "        # Vẽ hình\n",
    "        h0 = t(df=self._ttest['dof'])\n",
    "        h1 = self._ttest['t_stat']\n",
    "\n",
    "        samp = np.linspace(h1-2,h1+5,100) if h1 < 0 else np.linspace(h1-5,h1+2,100)\n",
    "        \n",
    "        plt.plot(samp, h0.pdf(samp), color = 'red')\n",
    "\n",
    "        plt.axvline(x=h1, ymin=0.1, ymax=h0.pdf(h1)+0.01, color='darkred')\n",
    "        plt.text(h1,h0.pdf(h1),\"H1\")\n",
    "\n",
    "        pv = np.linspace(h1,h1+2,50) if h1>0 else np.linspace(h1-2,h1,50)\n",
    "        plt.fill_between(pv, h0.pdf(pv), facecolor='red', alpha = 0.3)\n",
    "        plt.xlabel('Giá trị t')\n",
    "\n",
    "        plt.figure()\n",
    "        ax1 = sns.kdeplot(pd.Series(self._ttest['Y'][0], name = self._ttest['X'][0]), shade = True, color = 'red')\n",
    "        ax2 = sns.kdeplot(pd.Series(self._ttest['Y'][1], name = self._ttest['X'][1]), shade =True, color = 'blue')\n",
    "        ax1.axvline(self._ttest['Mean'][0], color ='red', linestyle='dashed', linewidth=1.5)\n",
    "        ax2.axvline(self._ttest['Mean'][1], color ='blue', linestyle='dashed', linewidth=1.5)\n",
    "        plt.legend()\n",
    "        plt.xlabel(self.form.split('~')[0].strip())\n",
    "\n",
    "        return out.T"
   ]
  },
  {
   "cell_type": "markdown",
   "metadata": {},
   "source": [
    "# Sử dụng class Ind_samples_t\n",
    "\n",
    "Trước tiên ta tải 1 số thư viện cần thiết và chuẩn bị 1 dataframe dữ liệu"
   ]
  },
  {
   "cell_type": "code",
   "execution_count": 2,
   "metadata": {},
   "outputs": [],
   "source": [
    "import pandas as pd\n",
    "from patsy import dmatrices\n",
    "from math import sqrt\n",
    "import numpy as np\n",
    "\n",
    "from scipy.stats import sem\n",
    "from scipy.stats import t\n",
    "import matplotlib.pyplot as plt\n",
    "import seaborn as sns\n",
    "\n",
    "data = pd.read_csv(\"https://raw.githubusercontent.com/kinokoberuji/R-Tutorials/master/aerodim.csv\",sep=\";\")"
   ]
  },
  {
   "cell_type": "code",
   "execution_count": 15,
   "metadata": {},
   "outputs": [
    {
     "data": {
      "text/html": [
       "<div>\n",
       "<style scoped>\n",
       "    .dataframe tbody tr th:only-of-type {\n",
       "        vertical-align: middle;\n",
       "    }\n",
       "\n",
       "    .dataframe tbody tr th {\n",
       "        vertical-align: top;\n",
       "    }\n",
       "\n",
       "    .dataframe thead th {\n",
       "        text-align: right;\n",
       "    }\n",
       "</style>\n",
       "<table border=\"1\" class=\"dataframe\">\n",
       "  <thead>\n",
       "    <tr style=\"text-align: right;\">\n",
       "      <th></th>\n",
       "      <th>Poids</th>\n",
       "      <th>Taille</th>\n",
       "      <th>BMI</th>\n",
       "      <th>Age</th>\n",
       "      <th>Sexe</th>\n",
       "      <th>Hb</th>\n",
       "      <th>Diagnostic</th>\n",
       "      <th>GST</th>\n",
       "      <th>Volume</th>\n",
       "      <th>Surface</th>\n",
       "      <th>DmCO</th>\n",
       "      <th>Thickness</th>\n",
       "      <th>DLCO</th>\n",
       "      <th>FVC</th>\n",
       "    </tr>\n",
       "  </thead>\n",
       "  <tbody>\n",
       "    <tr>\n",
       "      <th>0</th>\n",
       "      <td>53</td>\n",
       "      <td>165</td>\n",
       "      <td>19.467401</td>\n",
       "      <td>54</td>\n",
       "      <td>F</td>\n",
       "      <td>13.4</td>\n",
       "      <td>E</td>\n",
       "      <td>1.284048</td>\n",
       "      <td>7.0080</td>\n",
       "      <td>19.647869</td>\n",
       "      <td>450.315872</td>\n",
       "      <td>0.142701</td>\n",
       "      <td>6.767</td>\n",
       "      <td>2.30</td>\n",
       "    </tr>\n",
       "    <tr>\n",
       "      <th>1</th>\n",
       "      <td>92</td>\n",
       "      <td>170</td>\n",
       "      <td>31.833910</td>\n",
       "      <td>75</td>\n",
       "      <td>H</td>\n",
       "      <td>17.1</td>\n",
       "      <td>E</td>\n",
       "      <td>1.291861</td>\n",
       "      <td>3.7750</td>\n",
       "      <td>10.519710</td>\n",
       "      <td>72.271882</td>\n",
       "      <td>0.476060</td>\n",
       "      <td>19.146</td>\n",
       "      <td>3.04</td>\n",
       "    </tr>\n",
       "    <tr>\n",
       "      <th>2</th>\n",
       "      <td>69</td>\n",
       "      <td>186</td>\n",
       "      <td>19.944502</td>\n",
       "      <td>41</td>\n",
       "      <td>H</td>\n",
       "      <td>14.6</td>\n",
       "      <td>E</td>\n",
       "      <td>1.211214</td>\n",
       "      <td>7.7695</td>\n",
       "      <td>23.092705</td>\n",
       "      <td>372.142895</td>\n",
       "      <td>0.202952</td>\n",
       "      <td>29.047</td>\n",
       "      <td>5.72</td>\n",
       "    </tr>\n",
       "    <tr>\n",
       "      <th>3</th>\n",
       "      <td>60</td>\n",
       "      <td>160</td>\n",
       "      <td>23.437500</td>\n",
       "      <td>75</td>\n",
       "      <td>F</td>\n",
       "      <td>13.5</td>\n",
       "      <td>E</td>\n",
       "      <td>1.439790</td>\n",
       "      <td>4.3295</td>\n",
       "      <td>10.825326</td>\n",
       "      <td>89.206177</td>\n",
       "      <td>0.396893</td>\n",
       "      <td>14.943</td>\n",
       "      <td>2.57</td>\n",
       "    </tr>\n",
       "    <tr>\n",
       "      <th>4</th>\n",
       "      <td>72</td>\n",
       "      <td>172</td>\n",
       "      <td>24.337480</td>\n",
       "      <td>60</td>\n",
       "      <td>H</td>\n",
       "      <td>14.6</td>\n",
       "      <td>E</td>\n",
       "      <td>1.388885</td>\n",
       "      <td>5.5610</td>\n",
       "      <td>14.414152</td>\n",
       "      <td>180.833030</td>\n",
       "      <td>0.260699</td>\n",
       "      <td>13.888</td>\n",
       "      <td>4.36</td>\n",
       "    </tr>\n",
       "  </tbody>\n",
       "</table>\n",
       "</div>"
      ],
      "text/plain": [
       "   Poids  Taille        BMI  Age Sexe    Hb Diagnostic       GST  Volume  \\\n",
       "0     53     165  19.467401   54    F  13.4          E  1.284048  7.0080   \n",
       "1     92     170  31.833910   75    H  17.1          E  1.291861  3.7750   \n",
       "2     69     186  19.944502   41    H  14.6          E  1.211214  7.7695   \n",
       "3     60     160  23.437500   75    F  13.5          E  1.439790  4.3295   \n",
       "4     72     172  24.337480   60    H  14.6          E  1.388885  5.5610   \n",
       "\n",
       "     Surface        DmCO  Thickness    DLCO   FVC  \n",
       "0  19.647869  450.315872   0.142701   6.767  2.30  \n",
       "1  10.519710   72.271882   0.476060  19.146  3.04  \n",
       "2  23.092705  372.142895   0.202952  29.047  5.72  \n",
       "3  10.825326   89.206177   0.396893  14.943  2.57  \n",
       "4  14.414152  180.833030   0.260699  13.888  4.36  "
      ]
     },
     "execution_count": 15,
     "metadata": {},
     "output_type": "execute_result"
    }
   ],
   "source": [
    "data.head()"
   ]
  },
  {
   "cell_type": "markdown",
   "metadata": {},
   "source": [
    "Do biến Diagnostic có 3 bậc giá trị, class sẽ hiện thông báo rằng chỉ có 2 bậc đầu tiên được xét trong test t:"
   ]
  },
  {
   "cell_type": "code",
   "execution_count": 3,
   "metadata": {},
   "outputs": [
    {
     "name": "stdout",
     "output_type": "stream",
     "text": [
      "Biến phân nhóm có nhiều hơn 2 bậc giá trị\n",
      "test được thực hiện trên 2 bậc đầu tiên\n"
     ]
    }
   ],
   "source": [
    "t1 = Ind_samples_t(data=data,form = 'Surface~Diagnostic')"
   ]
  },
  {
   "cell_type": "code",
   "execution_count": 4,
   "metadata": {},
   "outputs": [
    {
     "data": {
      "text/html": [
       "<div>\n",
       "<style scoped>\n",
       "    .dataframe tbody tr th:only-of-type {\n",
       "        vertical-align: middle;\n",
       "    }\n",
       "\n",
       "    .dataframe tbody tr th {\n",
       "        vertical-align: top;\n",
       "    }\n",
       "\n",
       "    .dataframe thead th {\n",
       "        text-align: right;\n",
       "    }\n",
       "</style>\n",
       "<table border=\"1\" class=\"dataframe\">\n",
       "  <thead>\n",
       "    <tr style=\"text-align: right;\">\n",
       "      <th></th>\n",
       "      <th></th>\n",
       "      <th></th>\n",
       "    </tr>\n",
       "  </thead>\n",
       "  <tbody>\n",
       "    <tr>\n",
       "      <th>Nhóm</th>\n",
       "      <td>Diagnostic[E]</td>\n",
       "      <td>Diagnostic[F]</td>\n",
       "    </tr>\n",
       "    <tr>\n",
       "      <th>Cỡ mẫu</th>\n",
       "      <td>14</td>\n",
       "      <td>9</td>\n",
       "    </tr>\n",
       "    <tr>\n",
       "      <th>Trung bình</th>\n",
       "      <td>16.4449</td>\n",
       "      <td>36.394</td>\n",
       "    </tr>\n",
       "    <tr>\n",
       "      <th>Giá trị t</th>\n",
       "      <td>3.29805</td>\n",
       "      <td></td>\n",
       "    </tr>\n",
       "    <tr>\n",
       "      <th>Độ tự do</th>\n",
       "      <td>21</td>\n",
       "      <td></td>\n",
       "    </tr>\n",
       "    <tr>\n",
       "      <th>Giá trị p</th>\n",
       "      <td>0.00342538</td>\n",
       "      <td></td>\n",
       "    </tr>\n",
       "    <tr>\n",
       "      <th>Kích thước hiệu ứng</th>\n",
       "      <td></td>\n",
       "      <td></td>\n",
       "    </tr>\n",
       "    <tr>\n",
       "      <th>Rosenthal's r</th>\n",
       "      <td>0.584141</td>\n",
       "      <td></td>\n",
       "    </tr>\n",
       "    <tr>\n",
       "      <th>Cohen's d</th>\n",
       "      <td>3.16586</td>\n",
       "      <td>1.14461</td>\n",
       "    </tr>\n",
       "    <tr>\n",
       "      <th>Hedge's G</th>\n",
       "      <td>3.05143</td>\n",
       "      <td>1.10324</td>\n",
       "    </tr>\n",
       "    <tr>\n",
       "      <th>Phủ nhận H0</th>\n",
       "      <td>Có</td>\n",
       "      <td></td>\n",
       "    </tr>\n",
       "  </tbody>\n",
       "</table>\n",
       "</div>"
      ],
      "text/plain": [
       "                                                 \n",
       "Nhóm                 Diagnostic[E]  Diagnostic[F]\n",
       "Cỡ mẫu                          14              9\n",
       "Trung bình                 16.4449         36.394\n",
       "Giá trị t                  3.29805               \n",
       "Độ tự do                        21               \n",
       "Giá trị p               0.00342538               \n",
       "Kích thước hiệu ứng                              \n",
       "Rosenthal's r             0.584141               \n",
       "Cohen's d                  3.16586        1.14461\n",
       "Hedge's G                  3.05143        1.10324\n",
       "Phủ nhận H0                     Có               "
      ]
     },
     "execution_count": 4,
     "metadata": {},
     "output_type": "execute_result"
    },
    {
     "data": {
      "image/png": "[encoded data removed]",
      "text/plain": [
       "<Figure size 432x288 with 1 Axes>"
      ]
     },
     "metadata": {
      "needs_background": "light"
     },
     "output_type": "display_data"
    },
    {
     "data": {
      "image/png": "[encoded data removed]",
      "text/plain": [
       "<Figure size 432x288 with 1 Axes>"
      ]
     },
     "metadata": {
      "needs_background": "light"
     },
     "output_type": "display_data"
    }
   ],
   "source": [
    "t1.summary()"
   ]
  },
  {
   "cell_type": "markdown",
   "metadata": {},
   "source": [
    "Sau khi loại bỏ 1 bậc giá trị, thí dụ F, ta có t test hoàn hảo:"
   ]
  },
  {
   "cell_type": "code",
   "execution_count": 5,
   "metadata": {},
   "outputs": [
    {
     "data": {
      "text/html": [
       "<div>\n",
       "<style scoped>\n",
       "    .dataframe tbody tr th:only-of-type {\n",
       "        vertical-align: middle;\n",
       "    }\n",
       "\n",
       "    .dataframe tbody tr th {\n",
       "        vertical-align: top;\n",
       "    }\n",
       "\n",
       "    .dataframe thead th {\n",
       "        text-align: right;\n",
       "    }\n",
       "</style>\n",
       "<table border=\"1\" class=\"dataframe\">\n",
       "  <thead>\n",
       "    <tr style=\"text-align: right;\">\n",
       "      <th></th>\n",
       "      <th></th>\n",
       "      <th></th>\n",
       "    </tr>\n",
       "  </thead>\n",
       "  <tbody>\n",
       "    <tr>\n",
       "      <th>Nhóm</th>\n",
       "      <td>Diagnostic[E]</td>\n",
       "      <td>Diagnostic[N]</td>\n",
       "    </tr>\n",
       "    <tr>\n",
       "      <th>Cỡ mẫu</th>\n",
       "      <td>14</td>\n",
       "      <td>15</td>\n",
       "    </tr>\n",
       "    <tr>\n",
       "      <th>Trung bình</th>\n",
       "      <td>16.4449</td>\n",
       "      <td>46.0498</td>\n",
       "    </tr>\n",
       "    <tr>\n",
       "      <th>Giá trị t</th>\n",
       "      <td>6.00746</td>\n",
       "      <td></td>\n",
       "    </tr>\n",
       "    <tr>\n",
       "      <th>Độ tự do</th>\n",
       "      <td>27</td>\n",
       "      <td></td>\n",
       "    </tr>\n",
       "    <tr>\n",
       "      <th>Giá trị p</th>\n",
       "      <td>2.07447e-06</td>\n",
       "      <td></td>\n",
       "    </tr>\n",
       "    <tr>\n",
       "      <th>Kích thước hiệu ứng</th>\n",
       "      <td></td>\n",
       "      <td></td>\n",
       "    </tr>\n",
       "    <tr>\n",
       "      <th>Rosenthal's r</th>\n",
       "      <td>0.756331</td>\n",
       "      <td></td>\n",
       "    </tr>\n",
       "    <tr>\n",
       "      <th>Cohen's d</th>\n",
       "      <td>4.69819</td>\n",
       "      <td>1.65049</td>\n",
       "    </tr>\n",
       "    <tr>\n",
       "      <th>Hedge's G</th>\n",
       "      <td>4.56647</td>\n",
       "      <td>1.60421</td>\n",
       "    </tr>\n",
       "    <tr>\n",
       "      <th>Phủ nhận H0</th>\n",
       "      <td>Có</td>\n",
       "      <td></td>\n",
       "    </tr>\n",
       "  </tbody>\n",
       "</table>\n",
       "</div>"
      ],
      "text/plain": [
       "                                                 \n",
       "Nhóm                 Diagnostic[E]  Diagnostic[N]\n",
       "Cỡ mẫu                          14             15\n",
       "Trung bình                 16.4449        46.0498\n",
       "Giá trị t                  6.00746               \n",
       "Độ tự do                        27               \n",
       "Giá trị p              2.07447e-06               \n",
       "Kích thước hiệu ứng                              \n",
       "Rosenthal's r             0.756331               \n",
       "Cohen's d                  4.69819        1.65049\n",
       "Hedge's G                  4.56647        1.60421\n",
       "Phủ nhận H0                     Có               "
      ]
     },
     "execution_count": 5,
     "metadata": {},
     "output_type": "execute_result"
    },
    {
     "data": {
      "image/png": "[encoded data removed]",
      "text/plain": [
       "<Figure size 432x288 with 1 Axes>"
      ]
     },
     "metadata": {
      "needs_background": "light"
     },
     "output_type": "display_data"
    },
    {
     "data": {
      "image/png": "[encoded data removed]",
      "text/plain": [
       "<Figure size 432x288 with 1 Axes>"
      ]
     },
     "metadata": {
      "needs_background": "light"
     },
     "output_type": "display_data"
    }
   ],
   "source": [
    "data = data[data['Diagnostic'] != 'F']\n",
    "\n",
    "t2 = Ind_samples_t(data=data,form = 'Surface~Diagnostic')\n",
    "\n",
    "t2.summary()"
   ]
  },
  {
   "cell_type": "markdown",
   "metadata": {},
   "source": [
    "Một trường hợp có kết quả negative:"
   ]
  },
  {
   "cell_type": "code",
   "execution_count": 6,
   "metadata": {},
   "outputs": [
    {
     "data": {
      "text/html": [
       "<div>\n",
       "<style scoped>\n",
       "    .dataframe tbody tr th:only-of-type {\n",
       "        vertical-align: middle;\n",
       "    }\n",
       "\n",
       "    .dataframe tbody tr th {\n",
       "        vertical-align: top;\n",
       "    }\n",
       "\n",
       "    .dataframe thead th {\n",
       "        text-align: right;\n",
       "    }\n",
       "</style>\n",
       "<table border=\"1\" class=\"dataframe\">\n",
       "  <thead>\n",
       "    <tr style=\"text-align: right;\">\n",
       "      <th></th>\n",
       "      <th></th>\n",
       "      <th></th>\n",
       "    </tr>\n",
       "  </thead>\n",
       "  <tbody>\n",
       "    <tr>\n",
       "      <th>Nhóm</th>\n",
       "      <td>Sexe[F]</td>\n",
       "      <td>Sexe[H]</td>\n",
       "    </tr>\n",
       "    <tr>\n",
       "      <th>Cỡ mẫu</th>\n",
       "      <td>12</td>\n",
       "      <td>17</td>\n",
       "    </tr>\n",
       "    <tr>\n",
       "      <th>Trung bình</th>\n",
       "      <td>23.0727</td>\n",
       "      <td>20.0007</td>\n",
       "    </tr>\n",
       "    <tr>\n",
       "      <th>Giá trị t</th>\n",
       "      <td>-0.853641</td>\n",
       "      <td></td>\n",
       "    </tr>\n",
       "    <tr>\n",
       "      <th>Độ tự do</th>\n",
       "      <td>27</td>\n",
       "      <td></td>\n",
       "    </tr>\n",
       "    <tr>\n",
       "      <th>Giá trị p</th>\n",
       "      <td>0.400814</td>\n",
       "      <td></td>\n",
       "    </tr>\n",
       "    <tr>\n",
       "      <th>Kích thước hiệu ứng</th>\n",
       "      <td></td>\n",
       "      <td></td>\n",
       "    </tr>\n",
       "    <tr>\n",
       "      <th>Rosenthal's r</th>\n",
       "      <td>0.16211</td>\n",
       "      <td></td>\n",
       "    </tr>\n",
       "    <tr>\n",
       "      <th>Cohen's d</th>\n",
       "      <td>0.311221</td>\n",
       "      <td>0.338973</td>\n",
       "    </tr>\n",
       "    <tr>\n",
       "      <th>Hedge's G</th>\n",
       "      <td>0.302495</td>\n",
       "      <td>0.329469</td>\n",
       "    </tr>\n",
       "    <tr>\n",
       "      <th>Phủ nhận H0</th>\n",
       "      <td>Không</td>\n",
       "      <td></td>\n",
       "    </tr>\n",
       "  </tbody>\n",
       "</table>\n",
       "</div>"
      ],
      "text/plain": [
       "                                       \n",
       "Nhóm                  Sexe[F]   Sexe[H]\n",
       "Cỡ mẫu                     12        17\n",
       "Trung bình            23.0727   20.0007\n",
       "Giá trị t           -0.853641          \n",
       "Độ tự do                   27          \n",
       "Giá trị p            0.400814          \n",
       "Kích thước hiệu ứng                    \n",
       "Rosenthal's r         0.16211          \n",
       "Cohen's d            0.311221  0.338973\n",
       "Hedge's G            0.302495  0.329469\n",
       "Phủ nhận H0             Không          "
      ]
     },
     "execution_count": 6,
     "metadata": {},
     "output_type": "execute_result"
    },
    {
     "data": {
      "image/png": "[encoded data removed]",
      "text/plain": [
       "<Figure size 432x288 with 1 Axes>"
      ]
     },
     "metadata": {
      "needs_background": "light"
     },
     "output_type": "display_data"
    },
    {
     "data": {
      "image/png": "[encoded data removed]",
      "text/plain": [
       "<Figure size 432x288 with 1 Axes>"
      ]
     },
     "metadata": {
      "needs_background": "light"
     },
     "output_type": "display_data"
    }
   ],
   "source": [
    "t3 = Ind_samples_t(data=data,form = 'DLCO~Sexe')\n",
    "\n",
    "t3.summary()"
   ]
  },
  {
   "cell_type": "markdown",
   "metadata": {},
   "source": [
    "Một trường hợp khác : biến FVC"
   ]
  },
  {
   "cell_type": "code",
   "execution_count": 7,
   "metadata": {},
   "outputs": [
    {
     "data": {
      "text/html": [
       "<div>\n",
       "<style scoped>\n",
       "    .dataframe tbody tr th:only-of-type {\n",
       "        vertical-align: middle;\n",
       "    }\n",
       "\n",
       "    .dataframe tbody tr th {\n",
       "        vertical-align: top;\n",
       "    }\n",
       "\n",
       "    .dataframe thead th {\n",
       "        text-align: right;\n",
       "    }\n",
       "</style>\n",
       "<table border=\"1\" class=\"dataframe\">\n",
       "  <thead>\n",
       "    <tr style=\"text-align: right;\">\n",
       "      <th></th>\n",
       "      <th></th>\n",
       "      <th></th>\n",
       "    </tr>\n",
       "  </thead>\n",
       "  <tbody>\n",
       "    <tr>\n",
       "      <th>Nhóm</th>\n",
       "      <td>Diagnostic[E]</td>\n",
       "      <td>Diagnostic[N]</td>\n",
       "    </tr>\n",
       "    <tr>\n",
       "      <th>Cỡ mẫu</th>\n",
       "      <td>13</td>\n",
       "      <td>15</td>\n",
       "    </tr>\n",
       "    <tr>\n",
       "      <th>Trung bình</th>\n",
       "      <td>3.66538</td>\n",
       "      <td>4.93753</td>\n",
       "    </tr>\n",
       "    <tr>\n",
       "      <th>Giá trị t</th>\n",
       "      <td>3.23355</td>\n",
       "      <td></td>\n",
       "    </tr>\n",
       "    <tr>\n",
       "      <th>Độ tự do</th>\n",
       "      <td>26</td>\n",
       "      <td></td>\n",
       "    </tr>\n",
       "    <tr>\n",
       "      <th>Giá trị p</th>\n",
       "      <td>0.00331484</td>\n",
       "      <td></td>\n",
       "    </tr>\n",
       "    <tr>\n",
       "      <th>Kích thước hiệu ứng</th>\n",
       "      <td></td>\n",
       "      <td></td>\n",
       "    </tr>\n",
       "    <tr>\n",
       "      <th>Rosenthal's r</th>\n",
       "      <td>0.535545</td>\n",
       "      <td></td>\n",
       "    </tr>\n",
       "    <tr>\n",
       "      <th>Cohen's d</th>\n",
       "      <td>1.16063</td>\n",
       "      <td>1.31528</td>\n",
       "    </tr>\n",
       "    <tr>\n",
       "      <th>Hedge's G</th>\n",
       "      <td>1.12683</td>\n",
       "      <td>1.27697</td>\n",
       "    </tr>\n",
       "    <tr>\n",
       "      <th>Phủ nhận H0</th>\n",
       "      <td>Có</td>\n",
       "      <td></td>\n",
       "    </tr>\n",
       "  </tbody>\n",
       "</table>\n",
       "</div>"
      ],
      "text/plain": [
       "                                                 \n",
       "Nhóm                 Diagnostic[E]  Diagnostic[N]\n",
       "Cỡ mẫu                          13             15\n",
       "Trung bình                 3.66538        4.93753\n",
       "Giá trị t                  3.23355               \n",
       "Độ tự do                        26               \n",
       "Giá trị p               0.00331484               \n",
       "Kích thước hiệu ứng                              \n",
       "Rosenthal's r             0.535545               \n",
       "Cohen's d                  1.16063        1.31528\n",
       "Hedge's G                  1.12683        1.27697\n",
       "Phủ nhận H0                     Có               "
      ]
     },
     "execution_count": 7,
     "metadata": {},
     "output_type": "execute_result"
    },
    {
     "data": {
      "image/png": "[encoded data removed]",
      "text/plain": [
       "<Figure size 432x288 with 1 Axes>"
      ]
     },
     "metadata": {
      "needs_background": "light"
     },
     "output_type": "display_data"
    },
    {
     "data": {
      "image/png": "[encoded data removed]",
      "text/plain": [
       "<Figure size 432x288 with 1 Axes>"
      ]
     },
     "metadata": {
      "needs_background": "light"
     },
     "output_type": "display_data"
    }
   ],
   "source": [
    "t4 = Ind_samples_t(data=data,form = 'FVC ~ Diagnostic')\n",
    "\n",
    "t4.summary()"
   ]
  },
  {
   "cell_type": "markdown",
   "metadata": {},
   "source": [
    "Biến DmCO"
   ]
  },
  {
   "cell_type": "code",
   "execution_count": 8,
   "metadata": {},
   "outputs": [
    {
     "data": {
      "text/html": [
       "<div>\n",
       "<style scoped>\n",
       "    .dataframe tbody tr th:only-of-type {\n",
       "        vertical-align: middle;\n",
       "    }\n",
       "\n",
       "    .dataframe tbody tr th {\n",
       "        vertical-align: top;\n",
       "    }\n",
       "\n",
       "    .dataframe thead th {\n",
       "        text-align: right;\n",
       "    }\n",
       "</style>\n",
       "<table border=\"1\" class=\"dataframe\">\n",
       "  <thead>\n",
       "    <tr style=\"text-align: right;\">\n",
       "      <th></th>\n",
       "      <th></th>\n",
       "      <th></th>\n",
       "    </tr>\n",
       "  </thead>\n",
       "  <tbody>\n",
       "    <tr>\n",
       "      <th>Nhóm</th>\n",
       "      <td>Diagnostic[E]</td>\n",
       "      <td>Diagnostic[N]</td>\n",
       "    </tr>\n",
       "    <tr>\n",
       "      <th>Cỡ mẫu</th>\n",
       "      <td>14</td>\n",
       "      <td>15</td>\n",
       "    </tr>\n",
       "    <tr>\n",
       "      <th>Trung bình</th>\n",
       "      <td>220.123</td>\n",
       "      <td>257.264</td>\n",
       "    </tr>\n",
       "    <tr>\n",
       "      <th>Giá trị t</th>\n",
       "      <td>0.787451</td>\n",
       "      <td></td>\n",
       "    </tr>\n",
       "    <tr>\n",
       "      <th>Độ tự do</th>\n",
       "      <td>27</td>\n",
       "      <td></td>\n",
       "    </tr>\n",
       "    <tr>\n",
       "      <th>Giá trị p</th>\n",
       "      <td>0.437876</td>\n",
       "      <td></td>\n",
       "    </tr>\n",
       "    <tr>\n",
       "      <th>Kích thước hiệu ứng</th>\n",
       "      <td></td>\n",
       "      <td></td>\n",
       "    </tr>\n",
       "    <tr>\n",
       "      <th>Rosenthal's r</th>\n",
       "      <td>0.149834</td>\n",
       "      <td></td>\n",
       "    </tr>\n",
       "    <tr>\n",
       "      <th>Cohen's d</th>\n",
       "      <td>0.251862</td>\n",
       "      <td>0.370114</td>\n",
       "    </tr>\n",
       "    <tr>\n",
       "      <th>Hedge's G</th>\n",
       "      <td>0.2448</td>\n",
       "      <td>0.359737</td>\n",
       "    </tr>\n",
       "    <tr>\n",
       "      <th>Phủ nhận H0</th>\n",
       "      <td>Không</td>\n",
       "      <td></td>\n",
       "    </tr>\n",
       "  </tbody>\n",
       "</table>\n",
       "</div>"
      ],
      "text/plain": [
       "                                                 \n",
       "Nhóm                 Diagnostic[E]  Diagnostic[N]\n",
       "Cỡ mẫu                          14             15\n",
       "Trung bình                 220.123        257.264\n",
       "Giá trị t                 0.787451               \n",
       "Độ tự do                        27               \n",
       "Giá trị p                 0.437876               \n",
       "Kích thước hiệu ứng                              \n",
       "Rosenthal's r             0.149834               \n",
       "Cohen's d                 0.251862       0.370114\n",
       "Hedge's G                   0.2448       0.359737\n",
       "Phủ nhận H0                  Không               "
      ]
     },
     "execution_count": 8,
     "metadata": {},
     "output_type": "execute_result"
    },
    {
     "data": {
      "image/png": "[encoded data removed]",
      "text/plain": [
       "<Figure size 432x288 with 1 Axes>"
      ]
     },
     "metadata": {
      "needs_background": "light"
     },
     "output_type": "display_data"
    },
    {
     "data": {
      "image/png": "[encoded data removed]",
      "text/plain": [
       "<Figure size 432x288 with 1 Axes>"
      ]
     },
     "metadata": {
      "needs_background": "light"
     },
     "output_type": "display_data"
    }
   ],
   "source": [
    "t5 = Ind_samples_t(data=data,form = 'DmCO~ Diagnostic')\n",
    "\n",
    "t5.summary()"
   ]
  },
  {
   "cell_type": "code",
   "execution_count": null,
   "metadata": {},
   "outputs": [],
   "source": [
    "Bài thực hành tạm dừng, hẹn gặp lại các bạn lần sau."
   ]
  }
 ],
 "metadata": {
  "hide_input": false,
  "kernelspec": {
   "display_name": "Python 3",
   "language": "python",
   "name": "python3"
  },
  "language_info": {
   "codemirror_mode": {
    "name": "ipython",
    "version": 3
   },
   "file_extension": ".py",
   "mimetype": "text/x-python",
   "name": "python",
   "nbconvert_exporter": "python",
   "pygments_lexer": "ipython3",
   "version": "3.7.6"
  },
  "toc": {
   "base_numbering": 1,
   "nav_menu": {},
   "number_sections": true,
   "sideBar": true,
   "skip_h1_title": false,
   "title_cell": "Table of Contents",
   "title_sidebar": "Contents",
   "toc_cell": false,
   "toc_position": {},
   "toc_section_display": true,
   "toc_window_display": false
  }
 },
 "nbformat": 4,
 "nbformat_minor": 4
}
