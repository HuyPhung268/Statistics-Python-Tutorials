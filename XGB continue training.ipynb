{
 "cells": [
  {
   "cell_type": "markdown",
   "metadata": {},
   "source": [
    "# Huấn luyện nối tiếp và cập nhật mô hình XGboost\n",
    "\n",
    "### BS. Lê Ngọc Khả Nhi\n",
    "\n",
    "# Giới thiệu: \n",
    "\n",
    "Thông thường, mô hình Machine learning được huấn luyện 1 lần duy nhất sử dụng toàn bộ dữ liệu trong tập Train. Tuy nhiên trong một số hoàn cảnh, dữ liệu trong lần thí nghiệm đầu tiên có thể chưa đủ lớn, và người ta tiếp tục tích lũy thêm dữ liệu mới theo thời gian. Lúc này có thể ta muốn huấn luyện lại mô hình cũ một cách định kì từ dữ liệu mới. Ta có thể làm theo 2 cách: (1) Huấn luyện một phiên bản mô hình hoàn toàn mới trên toàn bộ dữ liệu tích lũy (cũ và mới), hoặc (2) Cập nhật phiên bản mô hình cũ với duy nhất gói dữ liệu mới. Việc huấn luyện tiếp nối và cập nhật này là khả thi với mô hình Deep learning, nhưng ít phổ biến với những algorithm machine learning khác. Điều thú vị là alorithm XGboost cho phép làm điều này.\n",
    "\n",
    "\n",
    "# Mô tả thí nghiệm\n",
    "\n",
    "Trong bài thực hành hôm nay, Nhi thực hiện 1 thí nghiệm huấn luyện nối tiếp cho một mô hình XGBoost regression như sau:\n",
    "\n",
    "Một bộ dữ liệu rất lớn được chia thành Trainset (n=66078) và test set (n=7343). Mục tiêu là ước tính điểm số hài lòng của sinh viên dành cho giảng viên. \n",
    "\n",
    "1) Đầu tiên, chúng ta dựng một mô hình XGboost trên toàn bộ Trainset, \n",
    "\n",
    "2) Tiếp theo, ta chia nhỏ Trainset thành 66 phần có kích thước bằng nhau là n=1000, và lần lượt huấn luyện 66 phiên bản mô hình XGBoost theo nguyên tắc như sau: Phiên bản đấu tiến (0) chỉ sử dụng 1000 instances đầu tiên, phiên bản tiếp theo là một sự tiếp nối và cập nhật của phiên bản cũ, dựa trên 1000 instances mới; cứ tiếp tục như vậy cho đến phiên bản thứ 65. \n",
    "\n",
    "Độ chính xác của mỗi phiên bản sẽ được theo dõi dựa trên cùng test set (n = 7343), và mỗi phiên bản mô hình được lưu lại một cách độc lập.\n",
    "\n",
    "## Chuẩn bị dữ liệu"
   ]
  },
  {
   "cell_type": "code",
   "execution_count": 1,
   "metadata": {},
   "outputs": [],
   "source": [
    "import numpy as np\n",
    "import pandas as pd\n",
    "from patsy import dmatrices\n",
    "import matplotlib.pyplot as plt\n",
    "import seaborn as sns\n",
    "\n",
    "from sklearn.model_selection import train_test_split\n",
    "\n",
    "from xgboost import XGBRegressor"
   ]
  },
  {
   "cell_type": "code",
   "execution_count": 2,
   "metadata": {},
   "outputs": [
    {
     "name": "stdout",
     "output_type": "stream",
     "text": [
      "<class 'pandas.core.frame.DataFrame'>\n",
      "Int64Index: 73421 entries, 1 to 73421\n",
      "Data columns (total 7 columns):\n",
      " #   Column    Non-Null Count  Dtype   \n",
      "---  ------    --------------  -----   \n",
      " 0   Student   73421 non-null  category\n",
      " 1   Lecturer  73421 non-null  category\n",
      " 2   Stud_Age  73421 non-null  object  \n",
      " 3   Lect_Age  73421 non-null  object  \n",
      " 4   Service   73421 non-null  object  \n",
      " 5   Dept      73421 non-null  category\n",
      " 6   Score     73421 non-null  float64 \n",
      "dtypes: category(3), float64(1), object(3)\n",
      "memory usage: 3.3+ MB\n"
     ]
    },
    {
     "data": {
      "text/html": [
       "<div>\n",
       "<style scoped>\n",
       "    .dataframe tbody tr th:only-of-type {\n",
       "        vertical-align: middle;\n",
       "    }\n",
       "\n",
       "    .dataframe tbody tr th {\n",
       "        vertical-align: top;\n",
       "    }\n",
       "\n",
       "    .dataframe thead th {\n",
       "        text-align: right;\n",
       "    }\n",
       "</style>\n",
       "<table border=\"1\" class=\"dataframe\">\n",
       "  <thead>\n",
       "    <tr style=\"text-align: right;\">\n",
       "      <th></th>\n",
       "      <th>Student</th>\n",
       "      <th>Lecturer</th>\n",
       "      <th>Stud_Age</th>\n",
       "      <th>Lect_Age</th>\n",
       "      <th>Service</th>\n",
       "      <th>Dept</th>\n",
       "      <th>Score</th>\n",
       "    </tr>\n",
       "  </thead>\n",
       "  <tbody>\n",
       "    <tr>\n",
       "      <th>1</th>\n",
       "      <td>1</td>\n",
       "      <td>1002</td>\n",
       "      <td>2</td>\n",
       "      <td>2</td>\n",
       "      <td>0</td>\n",
       "      <td>2</td>\n",
       "      <td>5.0</td>\n",
       "    </tr>\n",
       "    <tr>\n",
       "      <th>2</th>\n",
       "      <td>1</td>\n",
       "      <td>1050</td>\n",
       "      <td>2</td>\n",
       "      <td>1</td>\n",
       "      <td>1</td>\n",
       "      <td>6</td>\n",
       "      <td>2.0</td>\n",
       "    </tr>\n",
       "    <tr>\n",
       "      <th>3</th>\n",
       "      <td>1</td>\n",
       "      <td>1582</td>\n",
       "      <td>2</td>\n",
       "      <td>2</td>\n",
       "      <td>0</td>\n",
       "      <td>2</td>\n",
       "      <td>5.0</td>\n",
       "    </tr>\n",
       "    <tr>\n",
       "      <th>4</th>\n",
       "      <td>1</td>\n",
       "      <td>2050</td>\n",
       "      <td>2</td>\n",
       "      <td>2</td>\n",
       "      <td>1</td>\n",
       "      <td>3</td>\n",
       "      <td>3.0</td>\n",
       "    </tr>\n",
       "    <tr>\n",
       "      <th>5</th>\n",
       "      <td>2</td>\n",
       "      <td>115</td>\n",
       "      <td>2</td>\n",
       "      <td>1</td>\n",
       "      <td>0</td>\n",
       "      <td>5</td>\n",
       "      <td>2.0</td>\n",
       "    </tr>\n",
       "    <tr>\n",
       "      <th>6</th>\n",
       "      <td>2</td>\n",
       "      <td>756</td>\n",
       "      <td>2</td>\n",
       "      <td>1</td>\n",
       "      <td>0</td>\n",
       "      <td>5</td>\n",
       "      <td>4.0</td>\n",
       "    </tr>\n",
       "    <tr>\n",
       "      <th>7</th>\n",
       "      <td>3</td>\n",
       "      <td>7</td>\n",
       "      <td>2</td>\n",
       "      <td>1</td>\n",
       "      <td>1</td>\n",
       "      <td>11</td>\n",
       "      <td>4.0</td>\n",
       "    </tr>\n",
       "    <tr>\n",
       "      <th>8</th>\n",
       "      <td>3</td>\n",
       "      <td>13</td>\n",
       "      <td>2</td>\n",
       "      <td>1</td>\n",
       "      <td>0</td>\n",
       "      <td>10</td>\n",
       "      <td>5.0</td>\n",
       "    </tr>\n",
       "    <tr>\n",
       "      <th>9</th>\n",
       "      <td>3</td>\n",
       "      <td>36</td>\n",
       "      <td>2</td>\n",
       "      <td>1</td>\n",
       "      <td>0</td>\n",
       "      <td>10</td>\n",
       "      <td>5.0</td>\n",
       "    </tr>\n",
       "    <tr>\n",
       "      <th>10</th>\n",
       "      <td>3</td>\n",
       "      <td>140</td>\n",
       "      <td>2</td>\n",
       "      <td>1</td>\n",
       "      <td>0</td>\n",
       "      <td>10</td>\n",
       "      <td>4.0</td>\n",
       "    </tr>\n",
       "  </tbody>\n",
       "</table>\n",
       "</div>"
      ],
      "text/plain": [
       "   Student Lecturer Stud_Age Lect_Age Service Dept  Score\n",
       "1        1     1002        2        2       0    2    5.0\n",
       "2        1     1050        2        1       1    6    2.0\n",
       "3        1     1582        2        2       0    2    5.0\n",
       "4        1     2050        2        2       1    3    3.0\n",
       "5        2      115        2        1       0    5    2.0\n",
       "6        2      756        2        1       0    5    4.0\n",
       "7        3        7        2        1       1   11    4.0\n",
       "8        3       13        2        1       0   10    5.0\n",
       "9        3       36        2        1       0   10    5.0\n",
       "10       3      140        2        1       0   10    4.0"
      ]
     },
     "execution_count": 2,
     "metadata": {},
     "output_type": "execute_result"
    }
   ],
   "source": [
    "df = pd.read_csv('https://vincentarelbundock.github.io/Rdatasets/csv/lme4/InstEval.csv', index_col=0)\n",
    "\n",
    "df.columns = [\"Student\",\"Lecturer\",\"Stud_Age\",\"Lect_Age\",\"Service\",\"Dept\",\"Score\"]\n",
    "\n",
    "df[\"Student\"] = df[\"Student\"].astype('category')\n",
    "df[\"Lecturer\"] = df[\"Lecturer\"].astype('category')\n",
    "df[\"Dept\"] = df[\"Dept\"].astype('category')\n",
    "\n",
    "df[\"Stud_Age\"] = df[\"Stud_Age\"].astype('object')\n",
    "df[\"Lect_Age\"] = df[\"Lect_Age\"].astype('object')\n",
    "df[\"Service\"] = df[\"Service\"].astype('object')\n",
    "\n",
    "df[\"Score\"] = df[\"Score\"].astype('float')\n",
    "\n",
    "df.info()\n",
    "\n",
    "df.head(10)"
   ]
  },
  {
   "cell_type": "code",
   "execution_count": 3,
   "metadata": {},
   "outputs": [],
   "source": [
    "fe_form = 'Score ~ Stud_Age*Lect_Age*Service*Service*Dept'\n",
    "\n",
    "Y, X = dmatrices(fe_form, data=df, return_type='matrix')\n",
    "\n",
    "X = np.asarray(X)\n",
    "Y = np.asarray(Y).flatten()"
   ]
  },
  {
   "cell_type": "code",
   "execution_count": 6,
   "metadata": {},
   "outputs": [],
   "source": [
    "X_train,X_test,Y_train,Y_test = train_test_split(X,Y,test_size = 0.1)"
   ]
  },
  {
   "cell_type": "markdown",
   "metadata": {},
   "source": [
    "Kích thước Train set và test set:"
   ]
  },
  {
   "cell_type": "code",
   "execution_count": 7,
   "metadata": {},
   "outputs": [
    {
     "name": "stdout",
     "output_type": "stream",
     "text": [
      "(66078, 672) (7343, 672)\n"
     ]
    }
   ],
   "source": [
    "print(X_train.shape, X_test.shape)"
   ]
  },
  {
   "cell_type": "markdown",
   "metadata": {},
   "source": [
    "Chuẩn bị hàm tính median của sai số dự báo:"
   ]
  },
  {
   "cell_type": "code",
   "execution_count": 8,
   "metadata": {},
   "outputs": [],
   "source": [
    "def median_error(mod = None, x = None, y = None):\n",
    "    return np.median(mod.predict(x) - y)"
   ]
  },
  {
   "cell_type": "code",
   "execution_count": 9,
   "metadata": {},
   "outputs": [],
   "source": [
    "mod = XGBRegressor(learning_rate = 0.01, # or eta\n",
    "                   booster='dart',\n",
    "                   max_depth = 7,\n",
    "                   tree_method = \"gpu_hist\",\n",
    "                   grow_policy = \"lossguide\",\n",
    "                   predictor = 'gpu_predictor')"
   ]
  },
  {
   "cell_type": "markdown",
   "metadata": {},
   "source": [
    "## Mô hình dùng toàn bộ Trainset:\n",
    "\n",
    "Mô hình mod_pool dùng toàn bộ 66078 instances của train set, khi kiểm tra nó có median error = -0.827"
   ]
  },
  {
   "cell_type": "code",
   "execution_count": 10,
   "metadata": {},
   "outputs": [],
   "source": [
    "mod_pool = mod.fit(X_train,Y_train)"
   ]
  },
  {
   "cell_type": "code",
   "execution_count": 11,
   "metadata": {},
   "outputs": [
    {
     "data": {
      "text/plain": [
       "-0.8271408081054688"
      ]
     },
     "execution_count": 11,
     "metadata": {},
     "output_type": "execute_result"
    }
   ],
   "source": [
    "median_error(mod_pool,X_test,Y_test)"
   ]
  },
  {
   "cell_type": "markdown",
   "metadata": {},
   "source": [
    "## Huấn luyện nối tiếp:\n",
    "\n",
    "Quy trình huấn luyện nối tiếp diễn ra như sau:\n",
    "    \n",
    "Trước hết ta phải có 1 mô hình ban đầu, ở đây đặt tên là mod, được huấn luyện trên 1000 instances đầu tiên của train_set, sau khi làm xong, ta dùng method save_model để lưu object mô hình thành 1 file có tên là mod_0, đây là 1 phiên bản tạm thời.\n",
    "\n",
    "Mô hình mod_0 cơ bản này có median error = -0.807 (Như vậy cho thấy chỉ dùng 1 phần rất nhỏ của Trainset nhưng độ chính xác của mô hình lại gần bằng với khi dùng toàn bộ trainset)."
   ]
  },
  {
   "cell_type": "code",
   "execution_count": 14,
   "metadata": {},
   "outputs": [
    {
     "data": {
      "text/plain": [
       "-0.8072412014007568"
      ]
     },
     "execution_count": 14,
     "metadata": {},
     "output_type": "execute_result"
    }
   ],
   "source": [
    "mod = XGBRegressor(learning_rate = 0.01, # or eta\n",
    "                   booster='dart',\n",
    "                   max_depth = 7,\n",
    "                   tree_method = \"gpu_hist\",\n",
    "                   grow_policy = \"lossguide\",\n",
    "                   predictor = 'gpu_predictor')\n",
    "\n",
    "n = 1000\n",
    "dx = X_train[0:n]\n",
    "dy = Y_train[0:n]\n",
    "\n",
    "mod.fit(dx, dy)\n",
    "mod.save_model(f'mod_{0}')\n",
    "\n",
    "median_error(mod,X_test,Y_test)"
   ]
  },
  {
   "cell_type": "markdown",
   "metadata": {},
   "source": [
    "Tiếp theo, giả sử sau 1 thời gian ta có thêm 1000 dữ liệu mới, ta huấn luyện một mô hình mod_1 trên 1000 instances mới này, nhưng để kích hoạt cơ chế huấn luyện tiếp nối, ta thêm argument : xgb_model = 'tên của file phiên bản mô hình cũ' trong method fit(). Lúc này XGboost sẽ tải mô hình cũ và cập nhật quy luật các cây quyết định bên trong dựa vào dữ liệu mới.\n",
    "\n",
    "Nhi dùng 1 vòng lặp để lặp lại quy trình này 65 lần, cho đến khi dùng hết 66000 instances trong train set, mỗi lần như vậy đều sao lưu 1 phiên bản mô hình, và dùng chính phiên bản này để tiếp tục train cho lượt tiếp theo."
   ]
  },
  {
   "cell_type": "code",
   "execution_count": 16,
   "metadata": {
    "scrolled": false
   },
   "outputs": [
    {
     "name": "stdout",
     "output_type": "stream",
     "text": [
      "1000 2000\n",
      "Mô hình 1, median error = -0.16720247268676758\n",
      "2000 3000\n",
      "Mô hình 2, median error = 0.013847112655639648\n",
      "3000 4000\n",
      "Mô hình 3, median error = 0.06371545791625977\n",
      "4000 5000\n",
      "Mô hình 4, median error = 0.03848075866699219\n",
      "5000 6000\n",
      "Mô hình 5, median error = 0.07689261436462402\n",
      "6000 7000\n",
      "Mô hình 6, median error = 0.0638270378112793\n",
      "7000 8000\n",
      "Mô hình 7, median error = 0.06176877021789551\n",
      "8000 9000\n",
      "Mô hình 8, median error = 0.07783174514770508\n",
      "9000 10000\n",
      "Mô hình 9, median error = 0.09695148468017578\n",
      "10000 11000\n",
      "Mô hình 10, median error = 0.0018672943115234375\n",
      "11000 12000\n",
      "Mô hình 11, median error = -0.02926802635192871\n",
      "12000 13000\n",
      "Mô hình 12, median error = -0.030432939529418945\n",
      "13000 14000\n",
      "Mô hình 13, median error = -0.04589128494262695\n",
      "14000 15000\n",
      "Mô hình 14, median error = -0.006506681442260742\n",
      "15000 16000\n",
      "Mô hình 15, median error = -0.005151987075805664\n",
      "16000 17000\n",
      "Mô hình 16, median error = -0.028557300567626953\n",
      "17000 18000\n",
      "Mô hình 17, median error = -0.0167694091796875\n",
      "18000 19000\n",
      "Mô hình 18, median error = 0.037096261978149414\n",
      "19000 20000\n",
      "Mô hình 19, median error = -0.03763699531555176\n",
      "20000 21000\n",
      "Mô hình 20, median error = 0.053269147872924805\n",
      "21000 22000\n",
      "Mô hình 21, median error = 0.028777360916137695\n",
      "22000 23000\n",
      "Mô hình 22, median error = 0.0006480216979980469\n",
      "23000 24000\n",
      "Mô hình 23, median error = 0.013206720352172852\n",
      "24000 25000\n",
      "Mô hình 24, median error = -0.002904176712036133\n",
      "25000 26000\n",
      "Mô hình 25, median error = -0.026757001876831055\n",
      "26000 27000\n",
      "Mô hình 26, median error = 0.0014605522155761719\n",
      "27000 28000\n",
      "Mô hình 27, median error = -0.023282527923583984\n",
      "28000 29000\n",
      "Mô hình 28, median error = -0.017159461975097656\n",
      "29000 30000\n",
      "Mô hình 29, median error = 0.0007123947143554688\n",
      "30000 31000\n",
      "Mô hình 30, median error = -0.03656411170959473\n",
      "31000 32000\n",
      "Mô hình 31, median error = -0.026792287826538086\n",
      "32000 33000\n",
      "Mô hình 32, median error = -0.08066272735595703\n",
      "33000 34000\n",
      "Mô hình 33, median error = -0.08785820007324219\n",
      "34000 35000\n",
      "Mô hình 34, median error = -0.11022424697875977\n",
      "35000 36000\n",
      "Mô hình 35, median error = -0.08209991455078125\n",
      "36000 37000\n",
      "Mô hình 36, median error = -0.04279375076293945\n",
      "37000 38000\n",
      "Mô hình 37, median error = -0.012822866439819336\n",
      "38000 39000\n",
      "Mô hình 38, median error = 0.027437925338745117\n",
      "39000 40000\n",
      "Mô hình 39, median error = -0.03794598579406738\n",
      "40000 41000\n",
      "Mô hình 40, median error = -0.049106597900390625\n",
      "41000 42000\n",
      "Mô hình 41, median error = -0.028580188751220703\n",
      "42000 43000\n",
      "Mô hình 42, median error = -0.06318187713623047\n",
      "43000 44000\n",
      "Mô hình 43, median error = -0.023891448974609375\n",
      "44000 45000\n",
      "Mô hình 44, median error = 0.018748760223388672\n",
      "45000 46000\n",
      "Mô hình 45, median error = 0.025092363357543945\n",
      "46000 47000\n",
      "Mô hình 46, median error = 0.006703615188598633\n",
      "47000 48000\n",
      "Mô hình 47, median error = -0.0008270740509033203\n",
      "48000 49000\n",
      "Mô hình 48, median error = -0.011629581451416016\n",
      "49000 50000\n",
      "Mô hình 49, median error = -0.0013623237609863281\n",
      "50000 51000\n",
      "Mô hình 50, median error = 0.01323246955871582\n",
      "51000 52000\n",
      "Mô hình 51, median error = -0.01108241081237793\n",
      "52000 53000\n",
      "Mô hình 52, median error = 0.011263847351074219\n",
      "53000 54000\n",
      "Mô hình 53, median error = 0.051751136779785156\n",
      "54000 55000\n",
      "Mô hình 54, median error = 0.032594919204711914\n",
      "55000 56000\n",
      "Mô hình 55, median error = 0.07079410552978516\n",
      "56000 57000\n",
      "Mô hình 56, median error = 0.02350902557373047\n",
      "57000 58000\n",
      "Mô hình 57, median error = 0.03840994834899902\n",
      "58000 59000\n",
      "Mô hình 58, median error = -0.015284061431884766\n",
      "59000 60000\n",
      "Mô hình 59, median error = 0.016608715057373047\n",
      "60000 61000\n",
      "Mô hình 60, median error = -0.05108451843261719\n",
      "61000 62000\n",
      "Mô hình 61, median error = 0.02193760871887207\n",
      "62000 63000\n",
      "Mô hình 62, median error = 0.025005817413330078\n",
      "63000 64000\n",
      "Mô hình 63, median error = 0.032686471939086914\n",
      "64000 65000\n",
      "Mô hình 64, median error = -0.03509044647216797\n",
      "65000 66000\n",
      "Mô hình 65, median error = 0.005076408386230469\n"
     ]
    }
   ],
   "source": [
    "i = 1\n",
    "start = n\n",
    "\n",
    "perf = [median_error(mod,X_test,Y_test)]\n",
    "\n",
    "while start + n < len(X_train):\n",
    "    print(f'{start} {start + n}')\n",
    "    \n",
    "    dx = X_train[start:start+n]\n",
    "    dy = Y_train[start:start+n]\n",
    "\n",
    "    mod.fit(dx, dy, xgb_model=f'mod_{i-1}')\n",
    "    mod.save_model(f'mod_{i}')\n",
    "    \n",
    "    temp_perf = median_error(mod,X_test,Y_test)\n",
    "    \n",
    "    print(f'Mô hình {i}, median error = {temp_perf}')\n",
    "    \n",
    "    perf += [temp_perf]\n",
    "    start += n\n",
    "    \n",
    "    i += 1"
   ]
  },
  {
   "cell_type": "markdown",
   "metadata": {},
   "source": [
    "Ta thấy hiện tượng thú vị, đó là ngay từ lượt đầu tiên, median error của mô hình đã tốt hơn so với mô hình gốc (và thậm chí tốt hơn mô hình dùng toàn bộ trainset); sau đó kể từ lượt thứ 10, median error đạt trạng thái khá tốt, rất gần với 0, qua 50 lượt tiếp theo median error có tăng và giảm, có khi tốt hơn, có khi tệ hơn, nhưng vẫn gần với 0.\n",
    "\n",
    "Để tải 1 phiên bản mô hình, ta dùng method load_model từ 1 object XGboost.\n",
    "\n",
    "Đây là phân bố của prediction của 66 mô hình, cho thấy kể từ 4000 instances trở lên, hình ảnh phân bố trở nên đồng nhất. "
   ]
  },
  {
   "cell_type": "code",
   "execution_count": 17,
   "metadata": {},
   "outputs": [
    {
     "data": {
      "image/png": "[encoded data removed]",
      "text/plain": [
       "<Figure size 432x288 with 1 Axes>"
      ]
     },
     "metadata": {
      "needs_background": "light"
     },
     "output_type": "display_data"
    }
   ],
   "source": [
    "mod = XGBRegressor(learning_rate = 0.01, # or eta\n",
    "                   booster='dart',\n",
    "                   max_depth = 7,\n",
    "                   tree_method = \"gpu_hist\",\n",
    "                   grow_policy = \"lossguide\",\n",
    "                   predictor = 'gpu_predictor')\n",
    "\n",
    "for i in range(66):\n",
    "    mod.load_model(f'mod_{i}')\n",
    "    sns.kdeplot(mod.predict(X_test))"
   ]
  },
  {
   "cell_type": "markdown",
   "metadata": {},
   "source": [
    "Diễn tiến Median error qua 66 lượt huấn luyện tiếp nối như sau:"
   ]
  },
  {
   "cell_type": "code",
   "execution_count": 18,
   "metadata": {},
   "outputs": [
    {
     "data": {
      "text/plain": [
       "Text(0, 0.5, 'Median error')"
      ]
     },
     "execution_count": 18,
     "metadata": {},
     "output_type": "execute_result"
    },
    {
     "data": {
      "image/png": "[encoded data removed]",
      "text/plain": [
       "<Figure size 432x288 with 1 Axes>"
      ]
     },
     "metadata": {
      "needs_background": "light"
     },
     "output_type": "display_data"
    }
   ],
   "source": [
    "plt.plot(perf, '.-', c ='red')\n",
    "plt.xlabel('Models')\n",
    "plt.ylabel('Median error')"
   ]
  },
  {
   "cell_type": "markdown",
   "metadata": {},
   "source": [
    "Tuy nhiên, độ chính xác cao có cái giá của nó: ta thấy kích thước của các phiên bản mô hình tăng một cách tuyến tính sau mỗi lượt huấn luyện, từ 121 Kb cho mô hình mod_0 tăng lên đến 9.43 Mb cho mô hình mod_65; như vậy huấn luyện nối tiếp làm tăng kích thước mô hình."
   ]
  },
  {
   "cell_type": "code",
   "execution_count": 19,
   "metadata": {},
   "outputs": [
    {
     "data": {
      "text/plain": [
       "Text(0, 0.5, 'Size (Mb)')"
      ]
     },
     "execution_count": 19,
     "metadata": {},
     "output_type": "execute_result"
    },
    {
     "data": {
      "image/png": "[encoded data removed]",
      "text/plain": [
       "<Figure size 432x288 with 1 Axes>"
      ]
     },
     "metadata": {
      "needs_background": "light"
     },
     "output_type": "display_data"
    }
   ],
   "source": [
    "import os\n",
    "\n",
    "sizes = []\n",
    "\n",
    "for i in range(66):\n",
    "    sizes += [os.path.getsize('./'+ f'mod_{i}')*1e-6]\n",
    "    \n",
    "plt.plot(sizes, '.-', c ='blue')\n",
    "plt.xlabel('Models')\n",
    "plt.ylabel('Size (Mb)')"
   ]
  },
  {
   "cell_type": "markdown",
   "metadata": {},
   "source": [
    "# Bàn luận\n",
    "\n",
    "Dựa vào kết quả thí nghiệm, có thể rút ra một số nhận định:\n",
    "\n",
    "Algorithm XGBoost cho phép huấn luyện tiếp nối trên các phiên bản tạm thời, khả năng này là một ưu thế đáng kể so với những algorithm machine learning cổ điển khác.\n",
    "\n",
    "Việc huấn luyện tiếp nối có thể hữu ích trong 1 số hoàn cảnh như: Dữ liệu cần thời gian để thu thập, người dùng đặt ra mục tiêu bảo trì, cập nhật mô hình theo thời gian, dữ liệu quá lớn không thể tải vào bộ nhớ trong 1 lần duy nhất...\n",
    "\n",
    "Huấn luyện nối tiếp sẽ làm kích thước mô hình ngày càng lớn, đây là một nhược điểm, \n",
    "\n",
    "Cần cân nhắc giữa việc huấn luyện 1 mô hình hoàn toàn mới có kích thước nhỏ và cập nhật liên tục 1 mô hình cũ; vì không phải khi nào hiệu quả của huấn luyện tiếp nối cũng tốt hơn.\n",
    "\n",
    "Bài thực hành tạm dừng và hẹn gặp lại lần sau."
   ]
  },
  {
   "cell_type": "code",
   "execution_count": null,
   "metadata": {},
   "outputs": [],
   "source": []
  }
 ],
 "metadata": {
  "hide_input": false,
  "kernelspec": {
   "display_name": "Python 3",
   "language": "python",
   "name": "python3"
  },
  "language_info": {
   "codemirror_mode": {
    "name": "ipython",
    "version": 3
   },
   "file_extension": ".py",
   "mimetype": "text/x-python",
   "name": "python",
   "nbconvert_exporter": "python",
   "pygments_lexer": "ipython3",
   "version": "3.7.6"
  },
  "toc": {
   "base_numbering": 1,
   "nav_menu": {},
   "number_sections": true,
   "sideBar": true,
   "skip_h1_title": false,
   "title_cell": "Table of Contents",
   "title_sidebar": "Contents",
   "toc_cell": false,
   "toc_position": {},
   "toc_section_display": true,
   "toc_window_display": false
  }
 },
 "nbformat": 4,
 "nbformat_minor": 4
}
